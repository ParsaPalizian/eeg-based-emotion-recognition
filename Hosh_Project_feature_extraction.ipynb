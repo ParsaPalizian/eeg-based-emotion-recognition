{
 "cells": [
  {
   "cell_type": "markdown",
   "metadata": {
    "id": "RcZciYaaWzD0"
   },
   "source": [
    "# Download Data"
   ]
  },
  {
   "cell_type": "markdown",
   "metadata": {
    "id": "QYBruY14XTrb"
   },
   "source": [
    "# Import"
   ]
  },
  {
   "cell_type": "code",
   "execution_count": 1,
   "metadata": {
    "id": "4pUS2GUSJ17T"
   },
   "outputs": [],
   "source": [
    "import numpy as np\n",
    "import pandas as pd\n",
    "from scipy.io import loadmat\n",
    "from scipy.signal import correlate\n",
    "from scipy.signal import periodogram\n",
    "from scipy.signal import welch\n",
    "import matplotlib.pyplot as plt\n",
    "from sklearn.model_selection import train_test_split\n",
    "from sklearn.preprocessing import StandardScaler,MinMaxScaler\n",
    "from statsmodels.tsa.ar_model import AutoReg\n",
    "from scipy.linalg import toeplitz"
   ]
  },
  {
   "cell_type": "markdown",
   "metadata": {
    "id": "r3VU8tAvXZV1"
   },
   "source": [
    "# Load Data"
   ]
  },
  {
   "cell_type": "code",
   "execution_count": 2,
   "metadata": {
    "id": "zW3dIPGzKMLU"
   },
   "outputs": [],
   "source": [
    "data = loadmat(\"Project_data.mat\")"
   ]
  },
  {
   "cell_type": "markdown",
   "metadata": {
    "id": "SM4mITSuXj-w"
   },
   "source": [
    "# Definition"
   ]
  },
  {
   "cell_type": "markdown",
   "metadata": {
    "id": "BAQXbkIbXmwi"
   },
   "source": [
    "### Variables"
   ]
  },
  {
   "cell_type": "code",
   "execution_count": 3,
   "metadata": {
    "id": "1_4-keCAX_tx"
   },
   "outputs": [],
   "source": [
    "#train test data\n",
    "X_train = data[\"TrainData\"]\n",
    "X_test = data[\"TestData\"]\n",
    "y_train = data[\"TrainLabels\"]\n",
    "\n",
    "#classification\n",
    "class1 = X_train[:,:,y_train.T[:,0] == 1]\n",
    "class2 = X_train[:,:,y_train.T[:,0] == -1]\n",
    "\n",
    "#normalizing domain of signals\n",
    "scaler = StandardScaler()\n",
    "normalizedX_train = []\n",
    "normalizedClass1 = []\n",
    "normalizedClass2 = []\n",
    "\n",
    "for i in range(59):\n",
    "  a = scaler.fit_transform(X_train[i,:,:].T)\n",
    "  b = scaler.fit_transform(class1[i,:,:].T)\n",
    "  c = scaler.fit_transform(class2[i,:,:].T)\n",
    "  normalizedX_train.append(np.array(a).T)\n",
    "  normalizedClass1.append(np.array(b).T)\n",
    "  normalizedClass2.append(np.array(c).T)\n",
    "\n",
    "normalizedX_train=np.array(normalizedX_train)\n",
    "normalizedClass1=np.array(normalizedClass1)\n",
    "normalizedClass2=np.array(normalizedClass2)"
   ]
  },
  {
   "cell_type": "code",
   "execution_count": 4,
   "metadata": {
    "id": "AUyEkF5-GGI-"
   },
   "outputs": [
    {
     "data": {
      "text/plain": [
       "((59, 5000, 550),\n",
       " (59, 5000, 159),\n",
       " (1, 550),\n",
       " (59, 5000, 277),\n",
       " (59, 5000, 273),\n",
       " (59, 5000, 550),\n",
       " (59, 5000, 277),\n",
       " (59, 5000, 273))"
      ]
     },
     "execution_count": 4,
     "metadata": {},
     "output_type": "execute_result"
    }
   ],
   "source": [
    "X_train.shape ,X_test.shape , y_train.shape , class1.shape , class2.shape , normalizedX_train.shape , normalizedClass1.shape , normalizedClass2.shape"
   ]
  },
  {
   "cell_type": "markdown",
   "metadata": {
    "id": "z81VZRAhYGKl"
   },
   "source": [
    "### Functions"
   ]
  },
  {
   "cell_type": "code",
   "execution_count": 5,
   "metadata": {
    "id": "KD7SqtVTYSq_"
   },
   "outputs": [],
   "source": [
    "def calculate_form_factor(signal):\n",
    "    f_d = np.diff(signal)\n",
    "    s_d = np.diff(f_d)\n",
    "    signal_std = np.std(signal)\n",
    "    \n",
    "    return (signal_std * np.std(s_d))/ (np.std(f_d)**2)"
   ]
  },
  {
   "cell_type": "code",
   "execution_count": 6,
   "metadata": {
    "id": "Ldk6tog2YVe_"
   },
   "outputs": [],
   "source": [
    "def fisher1D(mu1,mu2,var1,var2,mu):\n",
    "  return ( ((mu1-mu)**2) + ((mu2 - mu) **2) ) /(var1 + var2)"
   ]
  },
  {
   "cell_type": "code",
   "execution_count": 7,
   "metadata": {},
   "outputs": [],
   "source": [
    "def calculate_ar1(signal , samples , order):\n",
    "    acf = np.correlate(signal, signal, mode='full')\n",
    "    acf_positive = acf[samples - 1:samples + order]\n",
    "    return np.linalg.solve(toeplitz(acf_positive), acf_positive)\n",
    "\n",
    "\n",
    "\n",
    "def calculate_ar2(signal, order):\n",
    "    model = AutoReg( X_train[0,:,0], lags=order)\n",
    "    model_fit = model.fit()\n",
    "    return np.array(model_fit.params)"
   ]
  },
  {
   "cell_type": "code",
   "execution_count": 8,
   "metadata": {},
   "outputs": [],
   "source": [
    "def normalize(feature):\n",
    "    scaler = MinMaxScaler()\n",
    "    normalized_feature = scaler.fit_transform(feature)\n",
    "    return normalized_feature"
   ]
  },
  {
   "cell_type": "markdown",
   "metadata": {
    "id": "UANf4QPJYXKp"
   },
   "source": [
    "# Implementation"
   ]
  },
  {
   "cell_type": "code",
   "execution_count": 9,
   "metadata": {
    "id": "JYjvxpkXfT-G"
   },
   "outputs": [],
   "source": [
    "fishersOfFeatures=[]\n",
    "features_count=np.zeros((550,1))"
   ]
  },
  {
   "cell_type": "code",
   "execution_count": 10,
   "metadata": {
    "id": "tFpGpHFY9D2-"
   },
   "outputs": [],
   "source": [
    "#variance\n",
    "vars = np.var(X_train, axis= 1)\n",
    "varsClass1= np.var(class1, axis= 1)\n",
    "varsClass2= np.var(class2, axis= 1)\n",
    "\n",
    "for i in range(59):\n",
    "  ithVars=vars[i,:]  \n",
    "  ithVarsClass1=varsClass1[i,:]\n",
    "  ithVarsClass2=varsClass2[i,:]  \n",
    "\n",
    "  features_count=np.concatenate((features_count,ithVars[:,np.newaxis]),axis=1)\n",
    "    \n",
    "  mu=ithVars.mean()\n",
    "  mu1=ithVarsClass1.mean()\n",
    "  mu2=ithVarsClass2.mean()\n",
    "  var1=ithVarsClass1.var()  \n",
    "  var2=ithVarsClass2.var()\n",
    "  fishersOfFeatures.append(fisher1D(mu1,mu2,var1,var2,mu))"
   ]
  },
  {
   "cell_type": "code",
   "execution_count": 11,
   "metadata": {},
   "outputs": [
    {
     "data": {
      "text/plain": [
       "(550, 60)"
      ]
     },
     "execution_count": 11,
     "metadata": {},
     "output_type": "execute_result"
    }
   ],
   "source": [
    "features_count.shape"
   ]
  },
  {
   "cell_type": "code",
   "execution_count": 12,
   "metadata": {
    "id": "_YSrXWesDGEr"
   },
   "outputs": [],
   "source": [
    "#histogram\n",
    "for i in range(59):\n",
    "    hists=[]\n",
    "    hists1=[]\n",
    "    hists2=[]\n",
    "\n",
    "    for j in range(X_train.shape[2]):\n",
    "      hists.append(np.histogram(X_train[i,:,j],bins=10)[0])\n",
    "    for j in range(class1.shape[2]):\n",
    "      hists1.append(np.histogram(class1[i,:,j],bins=10)[0])\n",
    "    for j in range(class2.shape[2]):\n",
    "      hists2.append(np.histogram(class2[i,:,j],bins=10)[0])\n",
    "\n",
    "    hists=np.array(hists)\n",
    "    hists1=np.array(hists1)\n",
    "    hists2=np.array(hists2)\n",
    "    \n",
    "    \n",
    "\n",
    "    for bin in range(10):\n",
    "        \n",
    "        features_count=np.concatenate((features_count,hists[:,bin][:,np.newaxis]),axis=1)\n",
    "        \n",
    "        mu=hists[:,bin].mean()\n",
    "        mu1=hists1[:,bin].mean()\n",
    "        var1=hists1[:,bin].var()\n",
    "        mu2=hists2[:,bin].mean()\n",
    "        var2=hists2[:,bin].var()\n",
    "        fishersOfFeatures.append(fisher1D(mu1,mu2,var1,var2,mu))"
   ]
  },
  {
   "cell_type": "code",
   "execution_count": 13,
   "metadata": {},
   "outputs": [
    {
     "data": {
      "text/plain": [
       "(550, 650)"
      ]
     },
     "execution_count": 13,
     "metadata": {},
     "output_type": "execute_result"
    }
   ],
   "source": [
    "features_count.shape"
   ]
  },
  {
   "cell_type": "code",
   "execution_count": 14,
   "metadata": {
    "colab": {
     "base_uri": "https://localhost:8080/"
    },
    "id": "94jB3WVl0gFo",
    "outputId": "b953ec54-72f0-4ef2-aaa1-4e395ac7bc50"
   },
   "outputs": [],
   "source": [
    "#form factor\n",
    "for i in range(59):\n",
    "  ffs=[]\n",
    "  ffs1=[]\n",
    "  ffs2=[]\n",
    "\n",
    "  for j in range(X_train.shape[2]):\n",
    "    ffs.append(calculate_form_factor(X_train[i,:,j]))\n",
    "\n",
    "  for j in range(class1.shape[2]):\n",
    "    ffs1.append(calculate_form_factor(class1[i,:,j]))\n",
    "\n",
    "  for j in range(class2.shape[2]):\n",
    "    ffs2.append(calculate_form_factor(class2[i,:,j]))\n",
    "\n",
    "  ffs=np.array(ffs)\n",
    "  ffs1=np.array(ffs1)\n",
    "  ffs2=np.array(ffs2)\n",
    "\n",
    "  features_count=np.concatenate((features_count,ffs[:,np.newaxis]),axis=1)  \n",
    "\n",
    "  mu=ffs.mean()  \n",
    "  mu1=ffs1.mean()\n",
    "  mu2=ffs2.mean()\n",
    "  var1=ffs1.var()\n",
    "  var2=ffs2.var()\n",
    "  #print(mu,mu1,mu2,var1,var2)  \n",
    "  fishersOfFeatures.append(fisher1D(mu1,mu2,var1,var2,mu))"
   ]
  },
  {
   "cell_type": "code",
   "execution_count": 15,
   "metadata": {},
   "outputs": [
    {
     "data": {
      "text/plain": [
       "(550, 709)"
      ]
     },
     "execution_count": 15,
     "metadata": {},
     "output_type": "execute_result"
    }
   ],
   "source": [
    "features_count.shape"
   ]
  },
  {
   "cell_type": "code",
   "execution_count": 16,
   "metadata": {},
   "outputs": [],
   "source": [
    "#AR\n",
    "# fishersOfFeatures=[]\n",
    "# for i in range(59):\n",
    "#     ars=[]\n",
    "#     ars1=[]\n",
    "#     ars2=[]\n",
    "\n",
    "#     for j in range(X_train.shape[2]):\n",
    "#       ars.append(calculate_ar1(X_train[i,:,j],5000,10))\n",
    "#     for j in range(class1.shape[2]):\n",
    "#       ars1.append(calculate_ar1(class1[i,:,j],5000,10))\n",
    "#     for j in range(class2.shape[2]):\n",
    "#       ars2.append(calculate_ar1(class2[i,:,j],5000,10))\n",
    "\n",
    "#     ars=np.array(ars)\n",
    "#     ars1=np.array(ars1)\n",
    "#     ars2=np.array(ars2)\n",
    "    \n",
    "#     for bin in range(1,11):\n",
    "#         mu=ars[:,bin].mean()\n",
    "#         mu1=ars1[:,bin].mean()\n",
    "#         var1=ars1[:,bin].var()\n",
    "#         mu2=ars2[:,bin].mean()\n",
    "#         var2=ars2[:,bin].var()\n",
    "#         fishersOfFeatures.append(fisher1D(mu1,mu2,var1,var2,mu))"
   ]
  },
  {
   "cell_type": "code",
   "execution_count": 17,
   "metadata": {},
   "outputs": [],
   "source": [
    "#fishersOfFeatures"
   ]
  },
  {
   "cell_type": "code",
   "execution_count": 18,
   "metadata": {
    "id": "SmkCYk202wGe"
   },
   "outputs": [],
   "source": [
    "#correlation\n",
    "corr=np.zeros((class1.shape[2],59,59))\n",
    "for i in range(59):\n",
    "  for j in range(59):\n",
    "    if i>j:\n",
    "      corrs=[]\n",
    "      corrs1=[]\n",
    "      corrs2=[]\n",
    "      \n",
    "        \n",
    "      for k in range(X_train.shape[2]):\n",
    "        corrs.append(np.corrcoef(X_train[i,:,k],X_train[j,:,k]))\n",
    "      for k in range(class1.shape[2]):\n",
    "        corrs1.append(np.corrcoef(class1[i,:,k],class1[j,:,k]))\n",
    "      for k in range(class2.shape[2]):\n",
    "        corrs2.append(np.corrcoef(class2[i,:,k],class2[j,:,k]))\n",
    "\n",
    "      corrs=np.array(corrs)\n",
    "      corrs1=np.array(corrs1)\n",
    "      corrs2=np.array(corrs2) \n",
    "      \n",
    "      features_count=np.concatenate((features_count,corrs[:,0,1][:,np.newaxis]),axis=1)    \n",
    "\n",
    "      mu=corrs.mean()\n",
    "      mu1=corrs1.mean()\n",
    "      mu2=corrs2.mean()\n",
    "      var1=corrs1.var()\n",
    "      var2=corrs2.var()\n",
    "      fishersOfFeatures.append(fisher1D(mu1,mu2,var1,var2,mu))"
   ]
  },
  {
   "cell_type": "code",
   "execution_count": 19,
   "metadata": {},
   "outputs": [
    {
     "data": {
      "text/plain": [
       "(550, 2420)"
      ]
     },
     "execution_count": 19,
     "metadata": {},
     "output_type": "execute_result"
    }
   ],
   "source": [
    "features_count.shape"
   ]
  },
  {
   "cell_type": "code",
   "execution_count": 20,
   "metadata": {
    "id": "L4Ud1QiLKGNS"
   },
   "outputs": [],
   "source": [
    "#maxfreq\n",
    "fs=1000\n",
    "for i in range(59):\n",
    "      \n",
    "    Fs=[]\n",
    "    Fs1=[]\n",
    "    Fs2=[]\n",
    "    \n",
    "    for j in range(X_train.shape[2]):\n",
    "        (f,S) = periodogram(X_train[i,:,j] , fs , scaling=\"density\")\n",
    "        Fs.append(f[np.argmax(S)])\n",
    "        \n",
    "    for j in range(class1.shape[2]):\n",
    "        (f,S) = periodogram(class1[i,:,j] , fs , scaling=\"density\")\n",
    "        Fs1.append(f[np.argmax(S)])\n",
    "    \n",
    "    for j in range(class2.shape[2]):\n",
    "        (f,S) = periodogram(class2[i,:,j] , fs , scaling=\"density\")\n",
    "        Fs2.append(f[np.argmax(S)])\n",
    "        \n",
    "    Fs=np.array(Fs)\n",
    "    Fs1=np.array(Fs1)\n",
    "    Fs2=np.array(Fs2)\n",
    "        \n",
    "    features_count=np.concatenate((features_count,Fs[:,np.newaxis]),axis=1)\n",
    "    \n",
    "    mu=Fs.mean()\n",
    "    mu1=Fs1.mean()\n",
    "    mu2=Fs2.mean()\n",
    "    var1=Fs1.var()\n",
    "    var2=Fs2.var()\n",
    "    fishersOfFeatures.append(fisher1D(mu1,mu2,var1,var2,mu))"
   ]
  },
  {
   "cell_type": "code",
   "execution_count": 21,
   "metadata": {},
   "outputs": [
    {
     "data": {
      "text/plain": [
       "(550, 2479)"
      ]
     },
     "execution_count": 21,
     "metadata": {},
     "output_type": "execute_result"
    }
   ],
   "source": [
    "features_count.shape"
   ]
  },
  {
   "cell_type": "code",
   "execution_count": 22,
   "metadata": {},
   "outputs": [],
   "source": [
    "#meanfreq\n",
    "fs=1000\n",
    "\n",
    "for i in range(59):\n",
    "      \n",
    "    Fs=[]\n",
    "    Fs1=[]\n",
    "    Fs2=[]\n",
    "    \n",
    "    for j in range(X_train.shape[2]):\n",
    "        (f,S) = periodogram(X_train[i,:,j] , fs , scaling=\"density\")\n",
    "        Fs.append(sum(f*S)/sum(S))\n",
    "        \n",
    "    for j in range(class1.shape[2]):\n",
    "        (f,S) = periodogram(class1[i,:,j] , fs , scaling=\"density\")\n",
    "        Fs1.append(sum(f*S)/sum(S))\n",
    "    \n",
    "    for j in range(class2.shape[2]):\n",
    "        (f,S) = periodogram(class2[i,:,j] , fs , scaling=\"density\")\n",
    "        Fs2.append(sum(f*S)/sum(S))\n",
    "        \n",
    "    Fs=np.array(Fs)\n",
    "    Fs1=np.array(Fs1)\n",
    "    Fs2=np.array(Fs2)\n",
    "    \n",
    "    features_count=np.concatenate((features_count,Fs[:,np.newaxis]),axis=1)\n",
    "        \n",
    "    mu=Fs.mean()\n",
    "    mu1=Fs1.mean()\n",
    "    mu2=Fs2.mean()\n",
    "    var1=Fs1.var()\n",
    "    var2=Fs2.var()\n",
    "    fishersOfFeatures.append(fisher1D(mu1,mu2,var1,var2,mu))"
   ]
  },
  {
   "cell_type": "code",
   "execution_count": 23,
   "metadata": {},
   "outputs": [
    {
     "data": {
      "text/plain": [
       "(550, 2538)"
      ]
     },
     "execution_count": 23,
     "metadata": {},
     "output_type": "execute_result"
    }
   ],
   "source": [
    "features_count.shape"
   ]
  },
  {
   "cell_type": "code",
   "execution_count": 24,
   "metadata": {},
   "outputs": [],
   "source": [
    "#medfreq\n",
    "fs=1000\n",
    "\n",
    "for i in range(59):\n",
    "      \n",
    "    Fs=[]\n",
    "    Fs1=[]\n",
    "    Fs2=[]\n",
    "    \n",
    "    for j in range(X_train.shape[2]):\n",
    "        (f,S) = periodogram(X_train[i,:,j] , fs , scaling=\"density\")\n",
    "        Fs.append( f[ np.where( np.cumsum(S) >= np.cumsum(S)[-1]/2 )[0][0] ] )\n",
    "        \n",
    "    for j in range(class1.shape[2]):\n",
    "        (f,S) = periodogram(class1[i,:,j] , fs , scaling=\"density\")\n",
    "        Fs1.append( f[ np.where( np.cumsum(S) >= np.cumsum(S)[-1]/2 )[0][0] ] )\n",
    "    \n",
    "    for j in range(class2.shape[2]):\n",
    "        (f,S) = periodogram(class2[i,:,j] , fs , scaling=\"density\")\n",
    "        Fs2.append( f[ np.where( np.cumsum(S) >= np.cumsum(S)[-1]/2 )[0][0] ] )\n",
    "        \n",
    "    Fs=np.array(Fs)\n",
    "    Fs1=np.array(Fs1)\n",
    "    Fs2=np.array(Fs2)\n",
    "        \n",
    "    features_count=np.concatenate((features_count,Fs[:,np.newaxis]),axis=1)\n",
    "    \n",
    "    mu=Fs.mean()\n",
    "    mu1=Fs1.mean()\n",
    "    mu2=Fs2.mean()\n",
    "    var1=Fs1.var()\n",
    "    var2=Fs2.var()\n",
    "    fishersOfFeatures.append(fisher1D(mu1,mu2,var1,var2,mu))"
   ]
  },
  {
   "cell_type": "code",
   "execution_count": 25,
   "metadata": {},
   "outputs": [
    {
     "data": {
      "text/plain": [
       "(550, 2597)"
      ]
     },
     "execution_count": 25,
     "metadata": {},
     "output_type": "execute_result"
    }
   ],
   "source": [
    "features_count.shape"
   ]
  },
  {
   "cell_type": "code",
   "execution_count": 26,
   "metadata": {},
   "outputs": [],
   "source": [
    "#bandpower\n",
    "fs=1000\n",
    "\n",
    "for i in range(59):\n",
    "    \n",
    "        delta=[0.1,3]\n",
    "        eRelDeltas=[]\n",
    "        eRelDeltas1=[]\n",
    "        eRelDeltas2=[]\n",
    "        \n",
    "        theta=[4,7]\n",
    "        eRelThetas=[]\n",
    "        eRelThetas1=[]\n",
    "        eRelThetas2=[]\n",
    "        \n",
    "        alpha=[8,12]\n",
    "        eRelAlphas=[]\n",
    "        eRelAlphas1=[]\n",
    "        eRelAlphas2=[]\n",
    "        \n",
    "        lowRangeBeta=[12,15]\n",
    "        eRelLowRangeBetas=[]\n",
    "        eRelLowRangeBetas1=[]\n",
    "        eRelLowRangeBetas2=[]\n",
    "\n",
    "        midRangeBeta=[16,20]\n",
    "        eRelMidRangeBetas=[]\n",
    "        eRelMidRangeBetas1=[]\n",
    "        eRelMidRangeBetas2=[]\n",
    "        \n",
    "        highRangeBeta=[21,30]\n",
    "        eRelHighRangeBetas=[]\n",
    "        eRelHighRangeBetas1=[]\n",
    "        eRelHighRangeBetas2=[]\n",
    "        \n",
    "        gamma=[30,100]\n",
    "        eRelGammas=[]\n",
    "        eRelGammas1=[]\n",
    "        eRelGammas2=[]\n",
    "        \n",
    "\n",
    "        for j in range(X_train.shape[2]):\n",
    "            \n",
    "            (f,S) = periodogram(X_train[i,:,j] , fs , scaling=\"density\")\n",
    "            \n",
    "            eDelta=sum(S[ (f>=delta[0]) & (f<=delta[1])]**2)\n",
    "            eTheta=sum(S[ (f>=theta[0]) & (f<=theta[1])]**2)\n",
    "            eAlpha=sum(S[(f>=alpha[0]) & (f<=alpha[1])]**2)\n",
    "            eLowRangeBeta=sum(S[ (f>=lowRangeBeta[0]) & (f<=lowRangeBeta[1])]**2)\n",
    "            eMidRangeBeta=sum(S[ (f>=midRangeBeta[0]) & (f<=midRangeBeta[1])]**2)\n",
    "            eHighRangeBeta=sum(S[ (f>=highRangeBeta[0]) & (f<=highRangeBeta[1])]**2)\n",
    "            eGamma=sum(S[ (f>=gamma[0]) & (f<=gamma[1])]**2)\n",
    "            e=eDelta+eTheta+eAlpha+eLowRangeBeta+eMidRangeBeta+eHighRangeBeta+eGamma\n",
    "            \n",
    "            eRelDeltas.append(eDelta/e)\n",
    "            eRelThetas.append(eTheta/e)\n",
    "            eRelAlphas.append(eAlpha/e)\n",
    "            eRelLowRangeBetas.append(eLowRangeBeta/e)\n",
    "            eRelMidRangeBetas.append(eMidRangeBeta/e)\n",
    "            eRelHighRangeBetas.append(eHighRangeBeta/e)\n",
    "            eRelGammas.append(eGamma/e)\n",
    "            \n",
    "\n",
    "        for j in range(class1.shape[2]):\n",
    "            (f,S) = periodogram(class1[i,:,j] , fs , scaling=\"density\")\n",
    "            eDelta=sum(S[ (f>=delta[0]) & (f<=delta[1])]**2)\n",
    "            eTheta=sum(S[ (f>=theta[0]) & (f<=theta[1])]**2)\n",
    "            eAlpha=sum(S[(f>=alpha[0]) & (f<=alpha[1])]**2)\n",
    "            eLowRangeBeta=sum(S[ (f>=lowRangeBeta[0]) & (f<=lowRangeBeta[1])]**2)\n",
    "            eMidRangeBeta=sum(S[ (f>=midRangeBeta[0]) & (f<=midRangeBeta[1])]**2)\n",
    "            eHighRangeBeta=sum(S[ (f>=highRangeBeta[0]) & (f<=highRangeBeta[1])]**2)\n",
    "            eGamma=sum(S[ (f>=gamma[0]) & (f<=gamma[1])]**2)\n",
    "            e=eDelta+eTheta+eAlpha+eLowRangeBeta+eMidRangeBeta+eHighRangeBeta+eGamma\n",
    "            \n",
    "            eRelDeltas1.append(eDelta/e)\n",
    "            eRelThetas1.append(eTheta/e)\n",
    "            eRelAlphas1.append(eAlpha/e)\n",
    "            eRelLowRangeBetas1.append(eLowRangeBeta/e)\n",
    "            eRelMidRangeBetas1.append(eMidRangeBeta/e)\n",
    "            eRelHighRangeBetas1.append(eHighRangeBeta/e)\n",
    "            eRelGammas1.append(eGamma/e)\n",
    "\n",
    "        for j in range(class2.shape[2]):\n",
    "            (f,S) = periodogram(class2[i,:,j] , fs , scaling=\"density\")\n",
    "            eDelta=sum(S[ (f>=delta[0]) & (f<=delta[1])]**2)\n",
    "            eTheta=sum(S[ (f>=theta[0]) & (f<=theta[1])]**2)\n",
    "            eAlpha=sum(S[(f>=alpha[0]) & (f<=alpha[1])]**2)\n",
    "            eLowRangeBeta=sum(S[ (f>=lowRangeBeta[0]) & (f<=lowRangeBeta[1])]**2)\n",
    "            eMidRangeBeta=sum(S[ (f>=midRangeBeta[0]) & (f<=midRangeBeta[1])]**2)\n",
    "            eHighRangeBeta=sum(S[ (f>=highRangeBeta[0]) & (f<=highRangeBeta[1])]**2)\n",
    "            eGamma=sum(S[ (f>=gamma[0]) & (f<=gamma[1])]**2)\n",
    "            e=eDelta+eTheta+eAlpha+eLowRangeBeta+eMidRangeBeta+eHighRangeBeta+eGamma\n",
    "            \n",
    "            eRelDeltas2.append(eDelta/e)\n",
    "            eRelThetas2.append(eTheta/e)\n",
    "            eRelAlphas2.append(eAlpha/e)\n",
    "            eRelLowRangeBetas2.append(eLowRangeBeta/e)\n",
    "            eRelMidRangeBetas2.append(eMidRangeBeta/e)\n",
    "            eRelHighRangeBetas2.append(eHighRangeBeta/e)\n",
    "            eRelGammas2.append(eGamma/e)\n",
    "\n",
    "        eRelDeltas=np.array(eRelDeltas)\n",
    "        eRelThetas=np.array(eRelThetas)\n",
    "        eRelAlphas=np.array(eRelAlphas)\n",
    "        eRelLowRangeBetas=np.array(eRelLowRangeBetas)\n",
    "        eRelMidRangeBetas=np.array(eRelMidRangeBetas)\n",
    "        eRelHighRangeBetas=np.array(eRelHighRangeBetas)\n",
    "        eRelGammas=np.array(eRelGammas)\n",
    "\n",
    "        eRelDeltas1=np.array(eRelDeltas1)\n",
    "        eRelThetas1=np.array(eRelThetas1)\n",
    "        eRelAlphas1=np.array(eRelAlphas1)\n",
    "        eRelLowRangeBetas1=np.array(eRelLowRangeBetas1)\n",
    "        eRelMidRangeBetas1=np.array(eRelMidRangeBetas1)\n",
    "        eRelHighRangeBetas1=np.array(eRelHighRangeBetas1)\n",
    "        eRelGammas1=np.array(eRelGammas1)\n",
    "\n",
    "        eRelDeltas2=np.array(eRelDeltas2)\n",
    "        eRelThetas2=np.array(eRelThetas2)\n",
    "        eRelAlphas2=np.array(eRelAlphas2)\n",
    "        eRelLowRangeBetas2=np.array(eRelLowRangeBetas2)\n",
    "        eRelMidRangeBetas2=np.array(eRelMidRangeBetas2)\n",
    "        eRelHighRangeBetas2=np.array(eRelHighRangeBetas2)\n",
    "        eRelGammas2=np.array(eRelGammas2)\n",
    "\n",
    "        features_count=np.concatenate((features_count,eRelDeltas[:,np.newaxis]),axis=1)\n",
    "        features_count=np.concatenate((features_count,eRelThetas[:,np.newaxis]),axis=1)\n",
    "        features_count=np.concatenate((features_count,eRelAlphas[:,np.newaxis]),axis=1)\n",
    "        features_count=np.concatenate((features_count,eRelLowRangeBetas[:,np.newaxis]),axis=1)\n",
    "        features_count=np.concatenate((features_count,eRelMidRangeBetas[:,np.newaxis]),axis=1)\n",
    "        features_count=np.concatenate((features_count,eRelHighRangeBetas[:,np.newaxis]),axis=1)\n",
    "        features_count=np.concatenate((features_count,eRelGammas[:,np.newaxis]),axis=1)\n",
    "\n",
    "        muDelta=eRelDeltas.mean()\n",
    "        muDelta1=eRelDeltas1.mean()\n",
    "        muDelta2=eRelDeltas2.mean()\n",
    "        varDelta1=eRelDeltas1.var()\n",
    "        varDelta2=eRelDeltas2.var()\n",
    "        fishersOfFeatures.append(fisher1D(muDelta1,muDelta2,varDelta1,varDelta2,muDelta))\n",
    "        \n",
    "        \n",
    "        muTheta=eRelThetas.mean()\n",
    "        muTheta1=eRelThetas1.mean()\n",
    "        muTheta2=eRelThetas2.mean()\n",
    "        varTheta1=eRelThetas1.var()\n",
    "        varTheta2=eRelThetas2.var()\n",
    "        fishersOfFeatures.append(fisher1D(muTheta1,muTheta2,varTheta1,varTheta2,muTheta))\n",
    "\n",
    "        \n",
    "        muAlpha=eRelAlphas.mean()\n",
    "        muAlpha1=eRelAlphas1.mean()\n",
    "        muAlpha2=eRelAlphas2.mean()\n",
    "        varAlpha1=eRelAlphas1.var()\n",
    "        varAlpha2=eRelAlphas2.var()\n",
    "        fishersOfFeatures.append(fisher1D(muAlpha1,muAlpha2,varAlpha1,varAlpha2,muAlpha))\n",
    "\n",
    "        \n",
    "        muLowRangeBeta=eRelLowRangeBetas.mean()\n",
    "        muLowRangeBeta1=eRelLowRangeBetas1.mean()\n",
    "        muLowRangeBeta2=eRelLowRangeBetas2.mean()\n",
    "        varLowRangeBeta1=eRelLowRangeBetas1.var()\n",
    "        varLowRangeBeta2=eRelLowRangeBetas2.var()\n",
    "        fishersOfFeatures.append(fisher1D(muLowRangeBeta1,muLowRangeBeta2,varLowRangeBeta1,varLowRangeBeta2,muLowRangeBeta))\n",
    "\n",
    "        \n",
    "        muMidRangeBeta=eRelMidRangeBetas.mean()\n",
    "        muMidRangeBeta1=eRelMidRangeBetas1.mean()\n",
    "        muMidRangeBeta2=eRelMidRangeBetas2.mean()\n",
    "        varMidRangeBeta1=eRelMidRangeBetas1.var()\n",
    "        varMidRangeBeta2=eRelMidRangeBetas2.var()\n",
    "        fishersOfFeatures.append(fisher1D(muMidRangeBeta1,muMidRangeBeta2,varMidRangeBeta1,varMidRangeBeta2,muMidRangeBeta))\n",
    "\n",
    "        \n",
    "        muHighRangeBeta=eRelHighRangeBetas.mean()\n",
    "        muHighRangeBeta1=eRelHighRangeBetas1.mean()\n",
    "        muHighRangeBeta2=eRelHighRangeBetas2.mean()\n",
    "        varHighRangeBeta1=eRelHighRangeBetas1.var()\n",
    "        varHighRangeBeta2=eRelHighRangeBetas2.var()\n",
    "        fishersOfFeatures.append(fisher1D(muHighRangeBeta1,muHighRangeBeta2,varHighRangeBeta1,varHighRangeBeta2,muHighRangeBeta))\n",
    "\n",
    "        \n",
    "        muGamma=eRelGammas.mean()\n",
    "        muGamma1=eRelGammas1.mean()\n",
    "        muGamma2=eRelGammas2.mean()\n",
    "        varGamma1=eRelGammas1.var()\n",
    "        varGamma2=eRelGammas2.var()\n",
    "        fishersOfFeatures.append(fisher1D(muGamma1,muGamma2,varGamma1,varGamma2,muGamma))\n"
   ]
  },
  {
   "cell_type": "code",
   "execution_count": 27,
   "metadata": {},
   "outputs": [
    {
     "data": {
      "text/plain": [
       "(550, 3010)"
      ]
     },
     "execution_count": 27,
     "metadata": {},
     "output_type": "execute_result"
    }
   ],
   "source": [
    "features_count.shape"
   ]
  },
  {
   "cell_type": "code",
   "execution_count": 28,
   "metadata": {},
   "outputs": [],
   "source": [
    "df = pd.DataFrame(fishersOfFeatures, columns=['column_name'])\n",
    "df.to_csv('fishersOfFeatures.csv', index=False)"
   ]
  },
  {
   "cell_type": "code",
   "execution_count": 30,
   "metadata": {},
   "outputs": [
    {
     "name": "stdout",
     "output_type": "stream",
     "text": [
      "[2989, 3003, 2940, 161, 2579, 2896, 252, 164, 2500, 542, 2442, 141, 255, 2461, 254, 2954, 2441, 2756, 545, 2890, 2946, 160, 541, 2559, 2996, 2592, 142, 2973, 2569, 2595, 2590, 145, 162, 2510, 2642, 2536, 144, 2895, 2472, 2469, 303, 2583, 2826, 234, 256, 42, 165, 2923, 2533, 2847]\n"
     ]
    }
   ],
   "source": [
    "fishersOfFeatures=pd.read_csv(\"fishersOfFeatures.csv\")\n",
    "fishersOfFeatures=fishersOfFeatures.to_numpy().tolist()\n",
    "sorted_fisher_of_features=fishersOfFeatures.copy()\n",
    "sorted_fisher_of_features.sort(reverse=True)\n",
    "best_fishers=sorted_fisher_of_features[0:50]\n",
    "\n",
    "indexs=[]\n",
    "for i in range(50):\n",
    "    indexs.append(fishersOfFeatures.index(best_fishers[i]))\n",
    "\n",
    "print(indexs)"
   ]
  },
  {
   "cell_type": "code",
   "execution_count": 31,
   "metadata": {},
   "outputs": [
    {
     "name": "stdout",
     "output_type": "stream",
     "text": [
      "['var channel 1', 'var channel 2', 'var channel 3', 'var channel 4', 'var channel 5', 'var channel 6', 'var channel 7', 'var channel 8', 'var channel 9', 'var channel 10', 'var channel 11', 'var channel 12', 'var channel 13', 'var channel 14', 'var channel 15', 'var channel 16', 'var channel 17', 'var channel 18', 'var channel 19', 'var channel 20', 'var channel 21', 'var channel 22', 'var channel 23', 'var channel 24', 'var channel 25', 'var channel 26', 'var channel 27', 'var channel 28', 'var channel 29', 'var channel 30', 'var channel 31', 'var channel 32', 'var channel 33', 'var channel 34', 'var channel 35', 'var channel 36', 'var channel 37', 'var channel 38', 'var channel 39', 'var channel 40', 'var channel 41', 'var channel 42', 'var channel 43', 'var channel 44', 'var channel 45', 'var channel 46', 'var channel 47', 'var channel 48', 'var channel 49', 'var channel 50', 'var channel 51', 'var channel 52', 'var channel 53', 'var channel 54', 'var channel 55', 'var channel 56', 'var channel 57', 'var channel 58', 'var channel 59', 'bin 1 channel 1', 'bin 2 channel 1', 'bin 3 channel 1', 'bin 4 channel 1', 'bin 5 channel 1', 'bin 6 channel 1', 'bin 7 channel 1', 'bin 8 channel 1', 'bin 9 channel 1', 'bin 10 channel 1', 'bin 1 channel 2', 'bin 2 channel 2', 'bin 3 channel 2', 'bin 4 channel 2', 'bin 5 channel 2', 'bin 6 channel 2', 'bin 7 channel 2', 'bin 8 channel 2', 'bin 9 channel 2', 'bin 10 channel 2', 'bin 1 channel 3', 'bin 2 channel 3', 'bin 3 channel 3', 'bin 4 channel 3', 'bin 5 channel 3', 'bin 6 channel 3', 'bin 7 channel 3', 'bin 8 channel 3', 'bin 9 channel 3', 'bin 10 channel 3', 'bin 1 channel 4', 'bin 2 channel 4', 'bin 3 channel 4', 'bin 4 channel 4', 'bin 5 channel 4', 'bin 6 channel 4', 'bin 7 channel 4', 'bin 8 channel 4', 'bin 9 channel 4', 'bin 10 channel 4', 'bin 1 channel 5', 'bin 2 channel 5', 'bin 3 channel 5', 'bin 4 channel 5', 'bin 5 channel 5', 'bin 6 channel 5', 'bin 7 channel 5', 'bin 8 channel 5', 'bin 9 channel 5', 'bin 10 channel 5', 'bin 1 channel 6', 'bin 2 channel 6', 'bin 3 channel 6', 'bin 4 channel 6', 'bin 5 channel 6', 'bin 6 channel 6', 'bin 7 channel 6', 'bin 8 channel 6', 'bin 9 channel 6', 'bin 10 channel 6', 'bin 1 channel 7', 'bin 2 channel 7', 'bin 3 channel 7', 'bin 4 channel 7', 'bin 5 channel 7', 'bin 6 channel 7', 'bin 7 channel 7', 'bin 8 channel 7', 'bin 9 channel 7', 'bin 10 channel 7', 'bin 1 channel 8', 'bin 2 channel 8', 'bin 3 channel 8', 'bin 4 channel 8', 'bin 5 channel 8', 'bin 6 channel 8', 'bin 7 channel 8', 'bin 8 channel 8', 'bin 9 channel 8', 'bin 10 channel 8', 'bin 1 channel 9', 'bin 2 channel 9', 'bin 3 channel 9', 'bin 4 channel 9', 'bin 5 channel 9', 'bin 6 channel 9', 'bin 7 channel 9', 'bin 8 channel 9', 'bin 9 channel 9', 'bin 10 channel 9', 'bin 1 channel 10', 'bin 2 channel 10', 'bin 3 channel 10', 'bin 4 channel 10', 'bin 5 channel 10', 'bin 6 channel 10', 'bin 7 channel 10', 'bin 8 channel 10', 'bin 9 channel 10', 'bin 10 channel 10', 'bin 1 channel 11', 'bin 2 channel 11', 'bin 3 channel 11', 'bin 4 channel 11', 'bin 5 channel 11', 'bin 6 channel 11', 'bin 7 channel 11', 'bin 8 channel 11', 'bin 9 channel 11', 'bin 10 channel 11', 'bin 1 channel 12', 'bin 2 channel 12', 'bin 3 channel 12', 'bin 4 channel 12', 'bin 5 channel 12', 'bin 6 channel 12', 'bin 7 channel 12', 'bin 8 channel 12', 'bin 9 channel 12', 'bin 10 channel 12', 'bin 1 channel 13', 'bin 2 channel 13', 'bin 3 channel 13', 'bin 4 channel 13', 'bin 5 channel 13', 'bin 6 channel 13', 'bin 7 channel 13', 'bin 8 channel 13', 'bin 9 channel 13', 'bin 10 channel 13', 'bin 1 channel 14', 'bin 2 channel 14', 'bin 3 channel 14', 'bin 4 channel 14', 'bin 5 channel 14', 'bin 6 channel 14', 'bin 7 channel 14', 'bin 8 channel 14', 'bin 9 channel 14', 'bin 10 channel 14', 'bin 1 channel 15', 'bin 2 channel 15', 'bin 3 channel 15', 'bin 4 channel 15', 'bin 5 channel 15', 'bin 6 channel 15', 'bin 7 channel 15', 'bin 8 channel 15', 'bin 9 channel 15', 'bin 10 channel 15', 'bin 1 channel 16', 'bin 2 channel 16', 'bin 3 channel 16', 'bin 4 channel 16', 'bin 5 channel 16', 'bin 6 channel 16', 'bin 7 channel 16', 'bin 8 channel 16', 'bin 9 channel 16', 'bin 10 channel 16', 'bin 1 channel 17', 'bin 2 channel 17', 'bin 3 channel 17', 'bin 4 channel 17', 'bin 5 channel 17', 'bin 6 channel 17', 'bin 7 channel 17', 'bin 8 channel 17', 'bin 9 channel 17', 'bin 10 channel 17', 'bin 1 channel 18', 'bin 2 channel 18', 'bin 3 channel 18', 'bin 4 channel 18', 'bin 5 channel 18', 'bin 6 channel 18', 'bin 7 channel 18', 'bin 8 channel 18', 'bin 9 channel 18', 'bin 10 channel 18', 'bin 1 channel 19', 'bin 2 channel 19', 'bin 3 channel 19', 'bin 4 channel 19', 'bin 5 channel 19', 'bin 6 channel 19', 'bin 7 channel 19', 'bin 8 channel 19', 'bin 9 channel 19', 'bin 10 channel 19', 'bin 1 channel 20', 'bin 2 channel 20', 'bin 3 channel 20', 'bin 4 channel 20', 'bin 5 channel 20', 'bin 6 channel 20', 'bin 7 channel 20', 'bin 8 channel 20', 'bin 9 channel 20', 'bin 10 channel 20', 'bin 1 channel 21', 'bin 2 channel 21', 'bin 3 channel 21', 'bin 4 channel 21', 'bin 5 channel 21', 'bin 6 channel 21', 'bin 7 channel 21', 'bin 8 channel 21', 'bin 9 channel 21', 'bin 10 channel 21', 'bin 1 channel 22', 'bin 2 channel 22', 'bin 3 channel 22', 'bin 4 channel 22', 'bin 5 channel 22', 'bin 6 channel 22', 'bin 7 channel 22', 'bin 8 channel 22', 'bin 9 channel 22', 'bin 10 channel 22', 'bin 1 channel 23', 'bin 2 channel 23', 'bin 3 channel 23', 'bin 4 channel 23', 'bin 5 channel 23', 'bin 6 channel 23', 'bin 7 channel 23', 'bin 8 channel 23', 'bin 9 channel 23', 'bin 10 channel 23', 'bin 1 channel 24', 'bin 2 channel 24', 'bin 3 channel 24', 'bin 4 channel 24', 'bin 5 channel 24', 'bin 6 channel 24', 'bin 7 channel 24', 'bin 8 channel 24', 'bin 9 channel 24', 'bin 10 channel 24', 'bin 1 channel 25', 'bin 2 channel 25', 'bin 3 channel 25', 'bin 4 channel 25', 'bin 5 channel 25', 'bin 6 channel 25', 'bin 7 channel 25', 'bin 8 channel 25', 'bin 9 channel 25', 'bin 10 channel 25', 'bin 1 channel 26', 'bin 2 channel 26', 'bin 3 channel 26', 'bin 4 channel 26', 'bin 5 channel 26', 'bin 6 channel 26', 'bin 7 channel 26', 'bin 8 channel 26', 'bin 9 channel 26', 'bin 10 channel 26', 'bin 1 channel 27', 'bin 2 channel 27', 'bin 3 channel 27', 'bin 4 channel 27', 'bin 5 channel 27', 'bin 6 channel 27', 'bin 7 channel 27', 'bin 8 channel 27', 'bin 9 channel 27', 'bin 10 channel 27', 'bin 1 channel 28', 'bin 2 channel 28', 'bin 3 channel 28', 'bin 4 channel 28', 'bin 5 channel 28', 'bin 6 channel 28', 'bin 7 channel 28', 'bin 8 channel 28', 'bin 9 channel 28', 'bin 10 channel 28', 'bin 1 channel 29', 'bin 2 channel 29', 'bin 3 channel 29', 'bin 4 channel 29', 'bin 5 channel 29', 'bin 6 channel 29', 'bin 7 channel 29', 'bin 8 channel 29', 'bin 9 channel 29', 'bin 10 channel 29', 'bin 1 channel 30', 'bin 2 channel 30', 'bin 3 channel 30', 'bin 4 channel 30', 'bin 5 channel 30', 'bin 6 channel 30', 'bin 7 channel 30', 'bin 8 channel 30', 'bin 9 channel 30', 'bin 10 channel 30', 'bin 1 channel 31', 'bin 2 channel 31', 'bin 3 channel 31', 'bin 4 channel 31', 'bin 5 channel 31', 'bin 6 channel 31', 'bin 7 channel 31', 'bin 8 channel 31', 'bin 9 channel 31', 'bin 10 channel 31', 'bin 1 channel 32', 'bin 2 channel 32', 'bin 3 channel 32', 'bin 4 channel 32', 'bin 5 channel 32', 'bin 6 channel 32', 'bin 7 channel 32', 'bin 8 channel 32', 'bin 9 channel 32', 'bin 10 channel 32', 'bin 1 channel 33', 'bin 2 channel 33', 'bin 3 channel 33', 'bin 4 channel 33', 'bin 5 channel 33', 'bin 6 channel 33', 'bin 7 channel 33', 'bin 8 channel 33', 'bin 9 channel 33', 'bin 10 channel 33', 'bin 1 channel 34', 'bin 2 channel 34', 'bin 3 channel 34', 'bin 4 channel 34', 'bin 5 channel 34', 'bin 6 channel 34', 'bin 7 channel 34', 'bin 8 channel 34', 'bin 9 channel 34', 'bin 10 channel 34', 'bin 1 channel 35', 'bin 2 channel 35', 'bin 3 channel 35', 'bin 4 channel 35', 'bin 5 channel 35', 'bin 6 channel 35', 'bin 7 channel 35', 'bin 8 channel 35', 'bin 9 channel 35', 'bin 10 channel 35', 'bin 1 channel 36', 'bin 2 channel 36', 'bin 3 channel 36', 'bin 4 channel 36', 'bin 5 channel 36', 'bin 6 channel 36', 'bin 7 channel 36', 'bin 8 channel 36', 'bin 9 channel 36', 'bin 10 channel 36', 'bin 1 channel 37', 'bin 2 channel 37', 'bin 3 channel 37', 'bin 4 channel 37', 'bin 5 channel 37', 'bin 6 channel 37', 'bin 7 channel 37', 'bin 8 channel 37', 'bin 9 channel 37', 'bin 10 channel 37', 'bin 1 channel 38', 'bin 2 channel 38', 'bin 3 channel 38', 'bin 4 channel 38', 'bin 5 channel 38', 'bin 6 channel 38', 'bin 7 channel 38', 'bin 8 channel 38', 'bin 9 channel 38', 'bin 10 channel 38', 'bin 1 channel 39', 'bin 2 channel 39', 'bin 3 channel 39', 'bin 4 channel 39', 'bin 5 channel 39', 'bin 6 channel 39', 'bin 7 channel 39', 'bin 8 channel 39', 'bin 9 channel 39', 'bin 10 channel 39', 'bin 1 channel 40', 'bin 2 channel 40', 'bin 3 channel 40', 'bin 4 channel 40', 'bin 5 channel 40', 'bin 6 channel 40', 'bin 7 channel 40', 'bin 8 channel 40', 'bin 9 channel 40', 'bin 10 channel 40', 'bin 1 channel 41', 'bin 2 channel 41', 'bin 3 channel 41', 'bin 4 channel 41', 'bin 5 channel 41', 'bin 6 channel 41', 'bin 7 channel 41', 'bin 8 channel 41', 'bin 9 channel 41', 'bin 10 channel 41', 'bin 1 channel 42', 'bin 2 channel 42', 'bin 3 channel 42', 'bin 4 channel 42', 'bin 5 channel 42', 'bin 6 channel 42', 'bin 7 channel 42', 'bin 8 channel 42', 'bin 9 channel 42', 'bin 10 channel 42', 'bin 1 channel 43', 'bin 2 channel 43', 'bin 3 channel 43', 'bin 4 channel 43', 'bin 5 channel 43', 'bin 6 channel 43', 'bin 7 channel 43', 'bin 8 channel 43', 'bin 9 channel 43', 'bin 10 channel 43', 'bin 1 channel 44', 'bin 2 channel 44', 'bin 3 channel 44', 'bin 4 channel 44', 'bin 5 channel 44', 'bin 6 channel 44', 'bin 7 channel 44', 'bin 8 channel 44', 'bin 9 channel 44', 'bin 10 channel 44', 'bin 1 channel 45', 'bin 2 channel 45', 'bin 3 channel 45', 'bin 4 channel 45', 'bin 5 channel 45', 'bin 6 channel 45', 'bin 7 channel 45', 'bin 8 channel 45', 'bin 9 channel 45', 'bin 10 channel 45', 'bin 1 channel 46', 'bin 2 channel 46', 'bin 3 channel 46', 'bin 4 channel 46', 'bin 5 channel 46', 'bin 6 channel 46', 'bin 7 channel 46', 'bin 8 channel 46', 'bin 9 channel 46', 'bin 10 channel 46', 'bin 1 channel 47', 'bin 2 channel 47', 'bin 3 channel 47', 'bin 4 channel 47', 'bin 5 channel 47', 'bin 6 channel 47', 'bin 7 channel 47', 'bin 8 channel 47', 'bin 9 channel 47', 'bin 10 channel 47', 'bin 1 channel 48', 'bin 2 channel 48', 'bin 3 channel 48', 'bin 4 channel 48', 'bin 5 channel 48', 'bin 6 channel 48', 'bin 7 channel 48', 'bin 8 channel 48', 'bin 9 channel 48', 'bin 10 channel 48', 'bin 1 channel 49', 'bin 2 channel 49', 'bin 3 channel 49', 'bin 4 channel 49', 'bin 5 channel 49', 'bin 6 channel 49', 'bin 7 channel 49', 'bin 8 channel 49', 'bin 9 channel 49', 'bin 10 channel 49', 'bin 1 channel 50', 'bin 2 channel 50', 'bin 3 channel 50', 'bin 4 channel 50', 'bin 5 channel 50', 'bin 6 channel 50', 'bin 7 channel 50', 'bin 8 channel 50', 'bin 9 channel 50', 'bin 10 channel 50', 'bin 1 channel 51', 'bin 2 channel 51', 'bin 3 channel 51', 'bin 4 channel 51', 'bin 5 channel 51', 'bin 6 channel 51', 'bin 7 channel 51', 'bin 8 channel 51', 'bin 9 channel 51', 'bin 10 channel 51', 'bin 1 channel 52', 'bin 2 channel 52', 'bin 3 channel 52', 'bin 4 channel 52', 'bin 5 channel 52', 'bin 6 channel 52', 'bin 7 channel 52', 'bin 8 channel 52', 'bin 9 channel 52', 'bin 10 channel 52', 'bin 1 channel 53', 'bin 2 channel 53', 'bin 3 channel 53', 'bin 4 channel 53', 'bin 5 channel 53', 'bin 6 channel 53', 'bin 7 channel 53', 'bin 8 channel 53', 'bin 9 channel 53', 'bin 10 channel 53', 'bin 1 channel 54', 'bin 2 channel 54', 'bin 3 channel 54', 'bin 4 channel 54', 'bin 5 channel 54', 'bin 6 channel 54', 'bin 7 channel 54', 'bin 8 channel 54', 'bin 9 channel 54', 'bin 10 channel 54', 'bin 1 channel 55', 'bin 2 channel 55', 'bin 3 channel 55', 'bin 4 channel 55', 'bin 5 channel 55', 'bin 6 channel 55', 'bin 7 channel 55', 'bin 8 channel 55', 'bin 9 channel 55', 'bin 10 channel 55', 'bin 1 channel 56', 'bin 2 channel 56', 'bin 3 channel 56', 'bin 4 channel 56', 'bin 5 channel 56', 'bin 6 channel 56', 'bin 7 channel 56', 'bin 8 channel 56', 'bin 9 channel 56', 'bin 10 channel 56', 'bin 1 channel 57', 'bin 2 channel 57', 'bin 3 channel 57', 'bin 4 channel 57', 'bin 5 channel 57', 'bin 6 channel 57', 'bin 7 channel 57', 'bin 8 channel 57', 'bin 9 channel 57', 'bin 10 channel 57', 'bin 1 channel 58', 'bin 2 channel 58', 'bin 3 channel 58', 'bin 4 channel 58', 'bin 5 channel 58', 'bin 6 channel 58', 'bin 7 channel 58', 'bin 8 channel 58', 'bin 9 channel 58', 'bin 10 channel 58', 'bin 1 channel 59', 'bin 2 channel 59', 'bin 3 channel 59', 'bin 4 channel 59', 'bin 5 channel 59', 'bin 6 channel 59', 'bin 7 channel 59', 'bin 8 channel 59', 'bin 9 channel 59', 'bin 10 channel 59', 'form factor channel 1', 'form factor channel 2', 'form factor channel 3', 'form factor channel 4', 'form factor channel 5', 'form factor channel 6', 'form factor channel 7', 'form factor channel 8', 'form factor channel 9', 'form factor channel 10', 'form factor channel 11', 'form factor channel 12', 'form factor channel 13', 'form factor channel 14', 'form factor channel 15', 'form factor channel 16', 'form factor channel 17', 'form factor channel 18', 'form factor channel 19', 'form factor channel 20', 'form factor channel 21', 'form factor channel 22', 'form factor channel 23', 'form factor channel 24', 'form factor channel 25', 'form factor channel 26', 'form factor channel 27', 'form factor channel 28', 'form factor channel 29', 'form factor channel 30', 'form factor channel 31', 'form factor channel 32', 'form factor channel 33', 'form factor channel 34', 'form factor channel 35', 'form factor channel 36', 'form factor channel 37', 'form factor channel 38', 'form factor channel 39', 'form factor channel 40', 'form factor channel 41', 'form factor channel 42', 'form factor channel 43', 'form factor channel 44', 'form factor channel 45', 'form factor channel 46', 'form factor channel 47', 'form factor channel 48', 'form factor channel 49', 'form factor channel 50', 'form factor channel 51', 'form factor channel 52', 'form factor channel 53', 'form factor channel 54', 'form factor channel 55', 'form factor channel 56', 'form factor channel 57', 'form factor channel 58', 'form factor channel 59', 'corr channel 2 and 1', 'corr channel 3 and 1', 'corr channel 3 and 2', 'corr channel 4 and 1', 'corr channel 4 and 2', 'corr channel 4 and 3', 'corr channel 5 and 1', 'corr channel 5 and 2', 'corr channel 5 and 3', 'corr channel 5 and 4', 'corr channel 6 and 1', 'corr channel 6 and 2', 'corr channel 6 and 3', 'corr channel 6 and 4', 'corr channel 6 and 5', 'corr channel 7 and 1', 'corr channel 7 and 2', 'corr channel 7 and 3', 'corr channel 7 and 4', 'corr channel 7 and 5', 'corr channel 7 and 6', 'corr channel 8 and 1', 'corr channel 8 and 2', 'corr channel 8 and 3', 'corr channel 8 and 4', 'corr channel 8 and 5', 'corr channel 8 and 6', 'corr channel 8 and 7', 'corr channel 9 and 1', 'corr channel 9 and 2', 'corr channel 9 and 3', 'corr channel 9 and 4', 'corr channel 9 and 5', 'corr channel 9 and 6', 'corr channel 9 and 7', 'corr channel 9 and 8', 'corr channel 10 and 1', 'corr channel 10 and 2', 'corr channel 10 and 3', 'corr channel 10 and 4', 'corr channel 10 and 5', 'corr channel 10 and 6', 'corr channel 10 and 7', 'corr channel 10 and 8', 'corr channel 10 and 9', 'corr channel 11 and 1', 'corr channel 11 and 2', 'corr channel 11 and 3', 'corr channel 11 and 4', 'corr channel 11 and 5', 'corr channel 11 and 6', 'corr channel 11 and 7', 'corr channel 11 and 8', 'corr channel 11 and 9', 'corr channel 11 and 10', 'corr channel 12 and 1', 'corr channel 12 and 2', 'corr channel 12 and 3', 'corr channel 12 and 4', 'corr channel 12 and 5', 'corr channel 12 and 6', 'corr channel 12 and 7', 'corr channel 12 and 8', 'corr channel 12 and 9', 'corr channel 12 and 10', 'corr channel 12 and 11', 'corr channel 13 and 1', 'corr channel 13 and 2', 'corr channel 13 and 3', 'corr channel 13 and 4', 'corr channel 13 and 5', 'corr channel 13 and 6', 'corr channel 13 and 7', 'corr channel 13 and 8', 'corr channel 13 and 9', 'corr channel 13 and 10', 'corr channel 13 and 11', 'corr channel 13 and 12', 'corr channel 14 and 1', 'corr channel 14 and 2', 'corr channel 14 and 3', 'corr channel 14 and 4', 'corr channel 14 and 5', 'corr channel 14 and 6', 'corr channel 14 and 7', 'corr channel 14 and 8', 'corr channel 14 and 9', 'corr channel 14 and 10', 'corr channel 14 and 11', 'corr channel 14 and 12', 'corr channel 14 and 13', 'corr channel 15 and 1', 'corr channel 15 and 2', 'corr channel 15 and 3', 'corr channel 15 and 4', 'corr channel 15 and 5', 'corr channel 15 and 6', 'corr channel 15 and 7', 'corr channel 15 and 8', 'corr channel 15 and 9', 'corr channel 15 and 10', 'corr channel 15 and 11', 'corr channel 15 and 12', 'corr channel 15 and 13', 'corr channel 15 and 14', 'corr channel 16 and 1', 'corr channel 16 and 2', 'corr channel 16 and 3', 'corr channel 16 and 4', 'corr channel 16 and 5', 'corr channel 16 and 6', 'corr channel 16 and 7', 'corr channel 16 and 8', 'corr channel 16 and 9', 'corr channel 16 and 10', 'corr channel 16 and 11', 'corr channel 16 and 12', 'corr channel 16 and 13', 'corr channel 16 and 14', 'corr channel 16 and 15', 'corr channel 17 and 1', 'corr channel 17 and 2', 'corr channel 17 and 3', 'corr channel 17 and 4', 'corr channel 17 and 5', 'corr channel 17 and 6', 'corr channel 17 and 7', 'corr channel 17 and 8', 'corr channel 17 and 9', 'corr channel 17 and 10', 'corr channel 17 and 11', 'corr channel 17 and 12', 'corr channel 17 and 13', 'corr channel 17 and 14', 'corr channel 17 and 15', 'corr channel 17 and 16', 'corr channel 18 and 1', 'corr channel 18 and 2', 'corr channel 18 and 3', 'corr channel 18 and 4', 'corr channel 18 and 5', 'corr channel 18 and 6', 'corr channel 18 and 7', 'corr channel 18 and 8', 'corr channel 18 and 9', 'corr channel 18 and 10', 'corr channel 18 and 11', 'corr channel 18 and 12', 'corr channel 18 and 13', 'corr channel 18 and 14', 'corr channel 18 and 15', 'corr channel 18 and 16', 'corr channel 18 and 17', 'corr channel 19 and 1', 'corr channel 19 and 2', 'corr channel 19 and 3', 'corr channel 19 and 4', 'corr channel 19 and 5', 'corr channel 19 and 6', 'corr channel 19 and 7', 'corr channel 19 and 8', 'corr channel 19 and 9', 'corr channel 19 and 10', 'corr channel 19 and 11', 'corr channel 19 and 12', 'corr channel 19 and 13', 'corr channel 19 and 14', 'corr channel 19 and 15', 'corr channel 19 and 16', 'corr channel 19 and 17', 'corr channel 19 and 18', 'corr channel 20 and 1', 'corr channel 20 and 2', 'corr channel 20 and 3', 'corr channel 20 and 4', 'corr channel 20 and 5', 'corr channel 20 and 6', 'corr channel 20 and 7', 'corr channel 20 and 8', 'corr channel 20 and 9', 'corr channel 20 and 10', 'corr channel 20 and 11', 'corr channel 20 and 12', 'corr channel 20 and 13', 'corr channel 20 and 14', 'corr channel 20 and 15', 'corr channel 20 and 16', 'corr channel 20 and 17', 'corr channel 20 and 18', 'corr channel 20 and 19', 'corr channel 21 and 1', 'corr channel 21 and 2', 'corr channel 21 and 3', 'corr channel 21 and 4', 'corr channel 21 and 5', 'corr channel 21 and 6', 'corr channel 21 and 7', 'corr channel 21 and 8', 'corr channel 21 and 9', 'corr channel 21 and 10', 'corr channel 21 and 11', 'corr channel 21 and 12', 'corr channel 21 and 13', 'corr channel 21 and 14', 'corr channel 21 and 15', 'corr channel 21 and 16', 'corr channel 21 and 17', 'corr channel 21 and 18', 'corr channel 21 and 19', 'corr channel 21 and 20', 'corr channel 22 and 1', 'corr channel 22 and 2', 'corr channel 22 and 3', 'corr channel 22 and 4', 'corr channel 22 and 5', 'corr channel 22 and 6', 'corr channel 22 and 7', 'corr channel 22 and 8', 'corr channel 22 and 9', 'corr channel 22 and 10', 'corr channel 22 and 11', 'corr channel 22 and 12', 'corr channel 22 and 13', 'corr channel 22 and 14', 'corr channel 22 and 15', 'corr channel 22 and 16', 'corr channel 22 and 17', 'corr channel 22 and 18', 'corr channel 22 and 19', 'corr channel 22 and 20', 'corr channel 22 and 21', 'corr channel 23 and 1', 'corr channel 23 and 2', 'corr channel 23 and 3', 'corr channel 23 and 4', 'corr channel 23 and 5', 'corr channel 23 and 6', 'corr channel 23 and 7', 'corr channel 23 and 8', 'corr channel 23 and 9', 'corr channel 23 and 10', 'corr channel 23 and 11', 'corr channel 23 and 12', 'corr channel 23 and 13', 'corr channel 23 and 14', 'corr channel 23 and 15', 'corr channel 23 and 16', 'corr channel 23 and 17', 'corr channel 23 and 18', 'corr channel 23 and 19', 'corr channel 23 and 20', 'corr channel 23 and 21', 'corr channel 23 and 22', 'corr channel 24 and 1', 'corr channel 24 and 2', 'corr channel 24 and 3', 'corr channel 24 and 4', 'corr channel 24 and 5', 'corr channel 24 and 6', 'corr channel 24 and 7', 'corr channel 24 and 8', 'corr channel 24 and 9', 'corr channel 24 and 10', 'corr channel 24 and 11', 'corr channel 24 and 12', 'corr channel 24 and 13', 'corr channel 24 and 14', 'corr channel 24 and 15', 'corr channel 24 and 16', 'corr channel 24 and 17', 'corr channel 24 and 18', 'corr channel 24 and 19', 'corr channel 24 and 20', 'corr channel 24 and 21', 'corr channel 24 and 22', 'corr channel 24 and 23', 'corr channel 25 and 1', 'corr channel 25 and 2', 'corr channel 25 and 3', 'corr channel 25 and 4', 'corr channel 25 and 5', 'corr channel 25 and 6', 'corr channel 25 and 7', 'corr channel 25 and 8', 'corr channel 25 and 9', 'corr channel 25 and 10', 'corr channel 25 and 11', 'corr channel 25 and 12', 'corr channel 25 and 13', 'corr channel 25 and 14', 'corr channel 25 and 15', 'corr channel 25 and 16', 'corr channel 25 and 17', 'corr channel 25 and 18', 'corr channel 25 and 19', 'corr channel 25 and 20', 'corr channel 25 and 21', 'corr channel 25 and 22', 'corr channel 25 and 23', 'corr channel 25 and 24', 'corr channel 26 and 1', 'corr channel 26 and 2', 'corr channel 26 and 3', 'corr channel 26 and 4', 'corr channel 26 and 5', 'corr channel 26 and 6', 'corr channel 26 and 7', 'corr channel 26 and 8', 'corr channel 26 and 9', 'corr channel 26 and 10', 'corr channel 26 and 11', 'corr channel 26 and 12', 'corr channel 26 and 13', 'corr channel 26 and 14', 'corr channel 26 and 15', 'corr channel 26 and 16', 'corr channel 26 and 17', 'corr channel 26 and 18', 'corr channel 26 and 19', 'corr channel 26 and 20', 'corr channel 26 and 21', 'corr channel 26 and 22', 'corr channel 26 and 23', 'corr channel 26 and 24', 'corr channel 26 and 25', 'corr channel 27 and 1', 'corr channel 27 and 2', 'corr channel 27 and 3', 'corr channel 27 and 4', 'corr channel 27 and 5', 'corr channel 27 and 6', 'corr channel 27 and 7', 'corr channel 27 and 8', 'corr channel 27 and 9', 'corr channel 27 and 10', 'corr channel 27 and 11', 'corr channel 27 and 12', 'corr channel 27 and 13', 'corr channel 27 and 14', 'corr channel 27 and 15', 'corr channel 27 and 16', 'corr channel 27 and 17', 'corr channel 27 and 18', 'corr channel 27 and 19', 'corr channel 27 and 20', 'corr channel 27 and 21', 'corr channel 27 and 22', 'corr channel 27 and 23', 'corr channel 27 and 24', 'corr channel 27 and 25', 'corr channel 27 and 26', 'corr channel 28 and 1', 'corr channel 28 and 2', 'corr channel 28 and 3', 'corr channel 28 and 4', 'corr channel 28 and 5', 'corr channel 28 and 6', 'corr channel 28 and 7', 'corr channel 28 and 8', 'corr channel 28 and 9', 'corr channel 28 and 10', 'corr channel 28 and 11', 'corr channel 28 and 12', 'corr channel 28 and 13', 'corr channel 28 and 14', 'corr channel 28 and 15', 'corr channel 28 and 16', 'corr channel 28 and 17', 'corr channel 28 and 18', 'corr channel 28 and 19', 'corr channel 28 and 20', 'corr channel 28 and 21', 'corr channel 28 and 22', 'corr channel 28 and 23', 'corr channel 28 and 24', 'corr channel 28 and 25', 'corr channel 28 and 26', 'corr channel 28 and 27', 'corr channel 29 and 1', 'corr channel 29 and 2', 'corr channel 29 and 3', 'corr channel 29 and 4', 'corr channel 29 and 5', 'corr channel 29 and 6', 'corr channel 29 and 7', 'corr channel 29 and 8', 'corr channel 29 and 9', 'corr channel 29 and 10', 'corr channel 29 and 11', 'corr channel 29 and 12', 'corr channel 29 and 13', 'corr channel 29 and 14', 'corr channel 29 and 15', 'corr channel 29 and 16', 'corr channel 29 and 17', 'corr channel 29 and 18', 'corr channel 29 and 19', 'corr channel 29 and 20', 'corr channel 29 and 21', 'corr channel 29 and 22', 'corr channel 29 and 23', 'corr channel 29 and 24', 'corr channel 29 and 25', 'corr channel 29 and 26', 'corr channel 29 and 27', 'corr channel 29 and 28', 'corr channel 30 and 1', 'corr channel 30 and 2', 'corr channel 30 and 3', 'corr channel 30 and 4', 'corr channel 30 and 5', 'corr channel 30 and 6', 'corr channel 30 and 7', 'corr channel 30 and 8', 'corr channel 30 and 9', 'corr channel 30 and 10', 'corr channel 30 and 11', 'corr channel 30 and 12', 'corr channel 30 and 13', 'corr channel 30 and 14', 'corr channel 30 and 15', 'corr channel 30 and 16', 'corr channel 30 and 17', 'corr channel 30 and 18', 'corr channel 30 and 19', 'corr channel 30 and 20', 'corr channel 30 and 21', 'corr channel 30 and 22', 'corr channel 30 and 23', 'corr channel 30 and 24', 'corr channel 30 and 25', 'corr channel 30 and 26', 'corr channel 30 and 27', 'corr channel 30 and 28', 'corr channel 30 and 29', 'corr channel 31 and 1', 'corr channel 31 and 2', 'corr channel 31 and 3', 'corr channel 31 and 4', 'corr channel 31 and 5', 'corr channel 31 and 6', 'corr channel 31 and 7', 'corr channel 31 and 8', 'corr channel 31 and 9', 'corr channel 31 and 10', 'corr channel 31 and 11', 'corr channel 31 and 12', 'corr channel 31 and 13', 'corr channel 31 and 14', 'corr channel 31 and 15', 'corr channel 31 and 16', 'corr channel 31 and 17', 'corr channel 31 and 18', 'corr channel 31 and 19', 'corr channel 31 and 20', 'corr channel 31 and 21', 'corr channel 31 and 22', 'corr channel 31 and 23', 'corr channel 31 and 24', 'corr channel 31 and 25', 'corr channel 31 and 26', 'corr channel 31 and 27', 'corr channel 31 and 28', 'corr channel 31 and 29', 'corr channel 31 and 30', 'corr channel 32 and 1', 'corr channel 32 and 2', 'corr channel 32 and 3', 'corr channel 32 and 4', 'corr channel 32 and 5', 'corr channel 32 and 6', 'corr channel 32 and 7', 'corr channel 32 and 8', 'corr channel 32 and 9', 'corr channel 32 and 10', 'corr channel 32 and 11', 'corr channel 32 and 12', 'corr channel 32 and 13', 'corr channel 32 and 14', 'corr channel 32 and 15', 'corr channel 32 and 16', 'corr channel 32 and 17', 'corr channel 32 and 18', 'corr channel 32 and 19', 'corr channel 32 and 20', 'corr channel 32 and 21', 'corr channel 32 and 22', 'corr channel 32 and 23', 'corr channel 32 and 24', 'corr channel 32 and 25', 'corr channel 32 and 26', 'corr channel 32 and 27', 'corr channel 32 and 28', 'corr channel 32 and 29', 'corr channel 32 and 30', 'corr channel 32 and 31', 'corr channel 33 and 1', 'corr channel 33 and 2', 'corr channel 33 and 3', 'corr channel 33 and 4', 'corr channel 33 and 5', 'corr channel 33 and 6', 'corr channel 33 and 7', 'corr channel 33 and 8', 'corr channel 33 and 9', 'corr channel 33 and 10', 'corr channel 33 and 11', 'corr channel 33 and 12', 'corr channel 33 and 13', 'corr channel 33 and 14', 'corr channel 33 and 15', 'corr channel 33 and 16', 'corr channel 33 and 17', 'corr channel 33 and 18', 'corr channel 33 and 19', 'corr channel 33 and 20', 'corr channel 33 and 21', 'corr channel 33 and 22', 'corr channel 33 and 23', 'corr channel 33 and 24', 'corr channel 33 and 25', 'corr channel 33 and 26', 'corr channel 33 and 27', 'corr channel 33 and 28', 'corr channel 33 and 29', 'corr channel 33 and 30', 'corr channel 33 and 31', 'corr channel 33 and 32', 'corr channel 34 and 1', 'corr channel 34 and 2', 'corr channel 34 and 3', 'corr channel 34 and 4', 'corr channel 34 and 5', 'corr channel 34 and 6', 'corr channel 34 and 7', 'corr channel 34 and 8', 'corr channel 34 and 9', 'corr channel 34 and 10', 'corr channel 34 and 11', 'corr channel 34 and 12', 'corr channel 34 and 13', 'corr channel 34 and 14', 'corr channel 34 and 15', 'corr channel 34 and 16', 'corr channel 34 and 17', 'corr channel 34 and 18', 'corr channel 34 and 19', 'corr channel 34 and 20', 'corr channel 34 and 21', 'corr channel 34 and 22', 'corr channel 34 and 23', 'corr channel 34 and 24', 'corr channel 34 and 25', 'corr channel 34 and 26', 'corr channel 34 and 27', 'corr channel 34 and 28', 'corr channel 34 and 29', 'corr channel 34 and 30', 'corr channel 34 and 31', 'corr channel 34 and 32', 'corr channel 34 and 33', 'corr channel 35 and 1', 'corr channel 35 and 2', 'corr channel 35 and 3', 'corr channel 35 and 4', 'corr channel 35 and 5', 'corr channel 35 and 6', 'corr channel 35 and 7', 'corr channel 35 and 8', 'corr channel 35 and 9', 'corr channel 35 and 10', 'corr channel 35 and 11', 'corr channel 35 and 12', 'corr channel 35 and 13', 'corr channel 35 and 14', 'corr channel 35 and 15', 'corr channel 35 and 16', 'corr channel 35 and 17', 'corr channel 35 and 18', 'corr channel 35 and 19', 'corr channel 35 and 20', 'corr channel 35 and 21', 'corr channel 35 and 22', 'corr channel 35 and 23', 'corr channel 35 and 24', 'corr channel 35 and 25', 'corr channel 35 and 26', 'corr channel 35 and 27', 'corr channel 35 and 28', 'corr channel 35 and 29', 'corr channel 35 and 30', 'corr channel 35 and 31', 'corr channel 35 and 32', 'corr channel 35 and 33', 'corr channel 35 and 34', 'corr channel 36 and 1', 'corr channel 36 and 2', 'corr channel 36 and 3', 'corr channel 36 and 4', 'corr channel 36 and 5', 'corr channel 36 and 6', 'corr channel 36 and 7', 'corr channel 36 and 8', 'corr channel 36 and 9', 'corr channel 36 and 10', 'corr channel 36 and 11', 'corr channel 36 and 12', 'corr channel 36 and 13', 'corr channel 36 and 14', 'corr channel 36 and 15', 'corr channel 36 and 16', 'corr channel 36 and 17', 'corr channel 36 and 18', 'corr channel 36 and 19', 'corr channel 36 and 20', 'corr channel 36 and 21', 'corr channel 36 and 22', 'corr channel 36 and 23', 'corr channel 36 and 24', 'corr channel 36 and 25', 'corr channel 36 and 26', 'corr channel 36 and 27', 'corr channel 36 and 28', 'corr channel 36 and 29', 'corr channel 36 and 30', 'corr channel 36 and 31', 'corr channel 36 and 32', 'corr channel 36 and 33', 'corr channel 36 and 34', 'corr channel 36 and 35', 'corr channel 37 and 1', 'corr channel 37 and 2', 'corr channel 37 and 3', 'corr channel 37 and 4', 'corr channel 37 and 5', 'corr channel 37 and 6', 'corr channel 37 and 7', 'corr channel 37 and 8', 'corr channel 37 and 9', 'corr channel 37 and 10', 'corr channel 37 and 11', 'corr channel 37 and 12', 'corr channel 37 and 13', 'corr channel 37 and 14', 'corr channel 37 and 15', 'corr channel 37 and 16', 'corr channel 37 and 17', 'corr channel 37 and 18', 'corr channel 37 and 19', 'corr channel 37 and 20', 'corr channel 37 and 21', 'corr channel 37 and 22', 'corr channel 37 and 23', 'corr channel 37 and 24', 'corr channel 37 and 25', 'corr channel 37 and 26', 'corr channel 37 and 27', 'corr channel 37 and 28', 'corr channel 37 and 29', 'corr channel 37 and 30', 'corr channel 37 and 31', 'corr channel 37 and 32', 'corr channel 37 and 33', 'corr channel 37 and 34', 'corr channel 37 and 35', 'corr channel 37 and 36', 'corr channel 38 and 1', 'corr channel 38 and 2', 'corr channel 38 and 3', 'corr channel 38 and 4', 'corr channel 38 and 5', 'corr channel 38 and 6', 'corr channel 38 and 7', 'corr channel 38 and 8', 'corr channel 38 and 9', 'corr channel 38 and 10', 'corr channel 38 and 11', 'corr channel 38 and 12', 'corr channel 38 and 13', 'corr channel 38 and 14', 'corr channel 38 and 15', 'corr channel 38 and 16', 'corr channel 38 and 17', 'corr channel 38 and 18', 'corr channel 38 and 19', 'corr channel 38 and 20', 'corr channel 38 and 21', 'corr channel 38 and 22', 'corr channel 38 and 23', 'corr channel 38 and 24', 'corr channel 38 and 25', 'corr channel 38 and 26', 'corr channel 38 and 27', 'corr channel 38 and 28', 'corr channel 38 and 29', 'corr channel 38 and 30', 'corr channel 38 and 31', 'corr channel 38 and 32', 'corr channel 38 and 33', 'corr channel 38 and 34', 'corr channel 38 and 35', 'corr channel 38 and 36', 'corr channel 38 and 37', 'corr channel 39 and 1', 'corr channel 39 and 2', 'corr channel 39 and 3', 'corr channel 39 and 4', 'corr channel 39 and 5', 'corr channel 39 and 6', 'corr channel 39 and 7', 'corr channel 39 and 8', 'corr channel 39 and 9', 'corr channel 39 and 10', 'corr channel 39 and 11', 'corr channel 39 and 12', 'corr channel 39 and 13', 'corr channel 39 and 14', 'corr channel 39 and 15', 'corr channel 39 and 16', 'corr channel 39 and 17', 'corr channel 39 and 18', 'corr channel 39 and 19', 'corr channel 39 and 20', 'corr channel 39 and 21', 'corr channel 39 and 22', 'corr channel 39 and 23', 'corr channel 39 and 24', 'corr channel 39 and 25', 'corr channel 39 and 26', 'corr channel 39 and 27', 'corr channel 39 and 28', 'corr channel 39 and 29', 'corr channel 39 and 30', 'corr channel 39 and 31', 'corr channel 39 and 32', 'corr channel 39 and 33', 'corr channel 39 and 34', 'corr channel 39 and 35', 'corr channel 39 and 36', 'corr channel 39 and 37', 'corr channel 39 and 38', 'corr channel 40 and 1', 'corr channel 40 and 2', 'corr channel 40 and 3', 'corr channel 40 and 4', 'corr channel 40 and 5', 'corr channel 40 and 6', 'corr channel 40 and 7', 'corr channel 40 and 8', 'corr channel 40 and 9', 'corr channel 40 and 10', 'corr channel 40 and 11', 'corr channel 40 and 12', 'corr channel 40 and 13', 'corr channel 40 and 14', 'corr channel 40 and 15', 'corr channel 40 and 16', 'corr channel 40 and 17', 'corr channel 40 and 18', 'corr channel 40 and 19', 'corr channel 40 and 20', 'corr channel 40 and 21', 'corr channel 40 and 22', 'corr channel 40 and 23', 'corr channel 40 and 24', 'corr channel 40 and 25', 'corr channel 40 and 26', 'corr channel 40 and 27', 'corr channel 40 and 28', 'corr channel 40 and 29', 'corr channel 40 and 30', 'corr channel 40 and 31', 'corr channel 40 and 32', 'corr channel 40 and 33', 'corr channel 40 and 34', 'corr channel 40 and 35', 'corr channel 40 and 36', 'corr channel 40 and 37', 'corr channel 40 and 38', 'corr channel 40 and 39', 'corr channel 41 and 1', 'corr channel 41 and 2', 'corr channel 41 and 3', 'corr channel 41 and 4', 'corr channel 41 and 5', 'corr channel 41 and 6', 'corr channel 41 and 7', 'corr channel 41 and 8', 'corr channel 41 and 9', 'corr channel 41 and 10', 'corr channel 41 and 11', 'corr channel 41 and 12', 'corr channel 41 and 13', 'corr channel 41 and 14', 'corr channel 41 and 15', 'corr channel 41 and 16', 'corr channel 41 and 17', 'corr channel 41 and 18', 'corr channel 41 and 19', 'corr channel 41 and 20', 'corr channel 41 and 21', 'corr channel 41 and 22', 'corr channel 41 and 23', 'corr channel 41 and 24', 'corr channel 41 and 25', 'corr channel 41 and 26', 'corr channel 41 and 27', 'corr channel 41 and 28', 'corr channel 41 and 29', 'corr channel 41 and 30', 'corr channel 41 and 31', 'corr channel 41 and 32', 'corr channel 41 and 33', 'corr channel 41 and 34', 'corr channel 41 and 35', 'corr channel 41 and 36', 'corr channel 41 and 37', 'corr channel 41 and 38', 'corr channel 41 and 39', 'corr channel 41 and 40', 'corr channel 42 and 1', 'corr channel 42 and 2', 'corr channel 42 and 3', 'corr channel 42 and 4', 'corr channel 42 and 5', 'corr channel 42 and 6', 'corr channel 42 and 7', 'corr channel 42 and 8', 'corr channel 42 and 9', 'corr channel 42 and 10', 'corr channel 42 and 11', 'corr channel 42 and 12', 'corr channel 42 and 13', 'corr channel 42 and 14', 'corr channel 42 and 15', 'corr channel 42 and 16', 'corr channel 42 and 17', 'corr channel 42 and 18', 'corr channel 42 and 19', 'corr channel 42 and 20', 'corr channel 42 and 21', 'corr channel 42 and 22', 'corr channel 42 and 23', 'corr channel 42 and 24', 'corr channel 42 and 25', 'corr channel 42 and 26', 'corr channel 42 and 27', 'corr channel 42 and 28', 'corr channel 42 and 29', 'corr channel 42 and 30', 'corr channel 42 and 31', 'corr channel 42 and 32', 'corr channel 42 and 33', 'corr channel 42 and 34', 'corr channel 42 and 35', 'corr channel 42 and 36', 'corr channel 42 and 37', 'corr channel 42 and 38', 'corr channel 42 and 39', 'corr channel 42 and 40', 'corr channel 42 and 41', 'corr channel 43 and 1', 'corr channel 43 and 2', 'corr channel 43 and 3', 'corr channel 43 and 4', 'corr channel 43 and 5', 'corr channel 43 and 6', 'corr channel 43 and 7', 'corr channel 43 and 8', 'corr channel 43 and 9', 'corr channel 43 and 10', 'corr channel 43 and 11', 'corr channel 43 and 12', 'corr channel 43 and 13', 'corr channel 43 and 14', 'corr channel 43 and 15', 'corr channel 43 and 16', 'corr channel 43 and 17', 'corr channel 43 and 18', 'corr channel 43 and 19', 'corr channel 43 and 20', 'corr channel 43 and 21', 'corr channel 43 and 22', 'corr channel 43 and 23', 'corr channel 43 and 24', 'corr channel 43 and 25', 'corr channel 43 and 26', 'corr channel 43 and 27', 'corr channel 43 and 28', 'corr channel 43 and 29', 'corr channel 43 and 30', 'corr channel 43 and 31', 'corr channel 43 and 32', 'corr channel 43 and 33', 'corr channel 43 and 34', 'corr channel 43 and 35', 'corr channel 43 and 36', 'corr channel 43 and 37', 'corr channel 43 and 38', 'corr channel 43 and 39', 'corr channel 43 and 40', 'corr channel 43 and 41', 'corr channel 43 and 42', 'corr channel 44 and 1', 'corr channel 44 and 2', 'corr channel 44 and 3', 'corr channel 44 and 4', 'corr channel 44 and 5', 'corr channel 44 and 6', 'corr channel 44 and 7', 'corr channel 44 and 8', 'corr channel 44 and 9', 'corr channel 44 and 10', 'corr channel 44 and 11', 'corr channel 44 and 12', 'corr channel 44 and 13', 'corr channel 44 and 14', 'corr channel 44 and 15', 'corr channel 44 and 16', 'corr channel 44 and 17', 'corr channel 44 and 18', 'corr channel 44 and 19', 'corr channel 44 and 20', 'corr channel 44 and 21', 'corr channel 44 and 22', 'corr channel 44 and 23', 'corr channel 44 and 24', 'corr channel 44 and 25', 'corr channel 44 and 26', 'corr channel 44 and 27', 'corr channel 44 and 28', 'corr channel 44 and 29', 'corr channel 44 and 30', 'corr channel 44 and 31', 'corr channel 44 and 32', 'corr channel 44 and 33', 'corr channel 44 and 34', 'corr channel 44 and 35', 'corr channel 44 and 36', 'corr channel 44 and 37', 'corr channel 44 and 38', 'corr channel 44 and 39', 'corr channel 44 and 40', 'corr channel 44 and 41', 'corr channel 44 and 42', 'corr channel 44 and 43', 'corr channel 45 and 1', 'corr channel 45 and 2', 'corr channel 45 and 3', 'corr channel 45 and 4', 'corr channel 45 and 5', 'corr channel 45 and 6', 'corr channel 45 and 7', 'corr channel 45 and 8', 'corr channel 45 and 9', 'corr channel 45 and 10', 'corr channel 45 and 11', 'corr channel 45 and 12', 'corr channel 45 and 13', 'corr channel 45 and 14', 'corr channel 45 and 15', 'corr channel 45 and 16', 'corr channel 45 and 17', 'corr channel 45 and 18', 'corr channel 45 and 19', 'corr channel 45 and 20', 'corr channel 45 and 21', 'corr channel 45 and 22', 'corr channel 45 and 23', 'corr channel 45 and 24', 'corr channel 45 and 25', 'corr channel 45 and 26', 'corr channel 45 and 27', 'corr channel 45 and 28', 'corr channel 45 and 29', 'corr channel 45 and 30', 'corr channel 45 and 31', 'corr channel 45 and 32', 'corr channel 45 and 33', 'corr channel 45 and 34', 'corr channel 45 and 35', 'corr channel 45 and 36', 'corr channel 45 and 37', 'corr channel 45 and 38', 'corr channel 45 and 39', 'corr channel 45 and 40', 'corr channel 45 and 41', 'corr channel 45 and 42', 'corr channel 45 and 43', 'corr channel 45 and 44', 'corr channel 46 and 1', 'corr channel 46 and 2', 'corr channel 46 and 3', 'corr channel 46 and 4', 'corr channel 46 and 5', 'corr channel 46 and 6', 'corr channel 46 and 7', 'corr channel 46 and 8', 'corr channel 46 and 9', 'corr channel 46 and 10', 'corr channel 46 and 11', 'corr channel 46 and 12', 'corr channel 46 and 13', 'corr channel 46 and 14', 'corr channel 46 and 15', 'corr channel 46 and 16', 'corr channel 46 and 17', 'corr channel 46 and 18', 'corr channel 46 and 19', 'corr channel 46 and 20', 'corr channel 46 and 21', 'corr channel 46 and 22', 'corr channel 46 and 23', 'corr channel 46 and 24', 'corr channel 46 and 25', 'corr channel 46 and 26', 'corr channel 46 and 27', 'corr channel 46 and 28', 'corr channel 46 and 29', 'corr channel 46 and 30', 'corr channel 46 and 31', 'corr channel 46 and 32', 'corr channel 46 and 33', 'corr channel 46 and 34', 'corr channel 46 and 35', 'corr channel 46 and 36', 'corr channel 46 and 37', 'corr channel 46 and 38', 'corr channel 46 and 39', 'corr channel 46 and 40', 'corr channel 46 and 41', 'corr channel 46 and 42', 'corr channel 46 and 43', 'corr channel 46 and 44', 'corr channel 46 and 45', 'corr channel 47 and 1', 'corr channel 47 and 2', 'corr channel 47 and 3', 'corr channel 47 and 4', 'corr channel 47 and 5', 'corr channel 47 and 6', 'corr channel 47 and 7', 'corr channel 47 and 8', 'corr channel 47 and 9', 'corr channel 47 and 10', 'corr channel 47 and 11', 'corr channel 47 and 12', 'corr channel 47 and 13', 'corr channel 47 and 14', 'corr channel 47 and 15', 'corr channel 47 and 16', 'corr channel 47 and 17', 'corr channel 47 and 18', 'corr channel 47 and 19', 'corr channel 47 and 20', 'corr channel 47 and 21', 'corr channel 47 and 22', 'corr channel 47 and 23', 'corr channel 47 and 24', 'corr channel 47 and 25', 'corr channel 47 and 26', 'corr channel 47 and 27', 'corr channel 47 and 28', 'corr channel 47 and 29', 'corr channel 47 and 30', 'corr channel 47 and 31', 'corr channel 47 and 32', 'corr channel 47 and 33', 'corr channel 47 and 34', 'corr channel 47 and 35', 'corr channel 47 and 36', 'corr channel 47 and 37', 'corr channel 47 and 38', 'corr channel 47 and 39', 'corr channel 47 and 40', 'corr channel 47 and 41', 'corr channel 47 and 42', 'corr channel 47 and 43', 'corr channel 47 and 44', 'corr channel 47 and 45', 'corr channel 47 and 46', 'corr channel 48 and 1', 'corr channel 48 and 2', 'corr channel 48 and 3', 'corr channel 48 and 4', 'corr channel 48 and 5', 'corr channel 48 and 6', 'corr channel 48 and 7', 'corr channel 48 and 8', 'corr channel 48 and 9', 'corr channel 48 and 10', 'corr channel 48 and 11', 'corr channel 48 and 12', 'corr channel 48 and 13', 'corr channel 48 and 14', 'corr channel 48 and 15', 'corr channel 48 and 16', 'corr channel 48 and 17', 'corr channel 48 and 18', 'corr channel 48 and 19', 'corr channel 48 and 20', 'corr channel 48 and 21', 'corr channel 48 and 22', 'corr channel 48 and 23', 'corr channel 48 and 24', 'corr channel 48 and 25', 'corr channel 48 and 26', 'corr channel 48 and 27', 'corr channel 48 and 28', 'corr channel 48 and 29', 'corr channel 48 and 30', 'corr channel 48 and 31', 'corr channel 48 and 32', 'corr channel 48 and 33', 'corr channel 48 and 34', 'corr channel 48 and 35', 'corr channel 48 and 36', 'corr channel 48 and 37', 'corr channel 48 and 38', 'corr channel 48 and 39', 'corr channel 48 and 40', 'corr channel 48 and 41', 'corr channel 48 and 42', 'corr channel 48 and 43', 'corr channel 48 and 44', 'corr channel 48 and 45', 'corr channel 48 and 46', 'corr channel 48 and 47', 'corr channel 49 and 1', 'corr channel 49 and 2', 'corr channel 49 and 3', 'corr channel 49 and 4', 'corr channel 49 and 5', 'corr channel 49 and 6', 'corr channel 49 and 7', 'corr channel 49 and 8', 'corr channel 49 and 9', 'corr channel 49 and 10', 'corr channel 49 and 11', 'corr channel 49 and 12', 'corr channel 49 and 13', 'corr channel 49 and 14', 'corr channel 49 and 15', 'corr channel 49 and 16', 'corr channel 49 and 17', 'corr channel 49 and 18', 'corr channel 49 and 19', 'corr channel 49 and 20', 'corr channel 49 and 21', 'corr channel 49 and 22', 'corr channel 49 and 23', 'corr channel 49 and 24', 'corr channel 49 and 25', 'corr channel 49 and 26', 'corr channel 49 and 27', 'corr channel 49 and 28', 'corr channel 49 and 29', 'corr channel 49 and 30', 'corr channel 49 and 31', 'corr channel 49 and 32', 'corr channel 49 and 33', 'corr channel 49 and 34', 'corr channel 49 and 35', 'corr channel 49 and 36', 'corr channel 49 and 37', 'corr channel 49 and 38', 'corr channel 49 and 39', 'corr channel 49 and 40', 'corr channel 49 and 41', 'corr channel 49 and 42', 'corr channel 49 and 43', 'corr channel 49 and 44', 'corr channel 49 and 45', 'corr channel 49 and 46', 'corr channel 49 and 47', 'corr channel 49 and 48', 'corr channel 50 and 1', 'corr channel 50 and 2', 'corr channel 50 and 3', 'corr channel 50 and 4', 'corr channel 50 and 5', 'corr channel 50 and 6', 'corr channel 50 and 7', 'corr channel 50 and 8', 'corr channel 50 and 9', 'corr channel 50 and 10', 'corr channel 50 and 11', 'corr channel 50 and 12', 'corr channel 50 and 13', 'corr channel 50 and 14', 'corr channel 50 and 15', 'corr channel 50 and 16', 'corr channel 50 and 17', 'corr channel 50 and 18', 'corr channel 50 and 19', 'corr channel 50 and 20', 'corr channel 50 and 21', 'corr channel 50 and 22', 'corr channel 50 and 23', 'corr channel 50 and 24', 'corr channel 50 and 25', 'corr channel 50 and 26', 'corr channel 50 and 27', 'corr channel 50 and 28', 'corr channel 50 and 29', 'corr channel 50 and 30', 'corr channel 50 and 31', 'corr channel 50 and 32', 'corr channel 50 and 33', 'corr channel 50 and 34', 'corr channel 50 and 35', 'corr channel 50 and 36', 'corr channel 50 and 37', 'corr channel 50 and 38', 'corr channel 50 and 39', 'corr channel 50 and 40', 'corr channel 50 and 41', 'corr channel 50 and 42', 'corr channel 50 and 43', 'corr channel 50 and 44', 'corr channel 50 and 45', 'corr channel 50 and 46', 'corr channel 50 and 47', 'corr channel 50 and 48', 'corr channel 50 and 49', 'corr channel 51 and 1', 'corr channel 51 and 2', 'corr channel 51 and 3', 'corr channel 51 and 4', 'corr channel 51 and 5', 'corr channel 51 and 6', 'corr channel 51 and 7', 'corr channel 51 and 8', 'corr channel 51 and 9', 'corr channel 51 and 10', 'corr channel 51 and 11', 'corr channel 51 and 12', 'corr channel 51 and 13', 'corr channel 51 and 14', 'corr channel 51 and 15', 'corr channel 51 and 16', 'corr channel 51 and 17', 'corr channel 51 and 18', 'corr channel 51 and 19', 'corr channel 51 and 20', 'corr channel 51 and 21', 'corr channel 51 and 22', 'corr channel 51 and 23', 'corr channel 51 and 24', 'corr channel 51 and 25', 'corr channel 51 and 26', 'corr channel 51 and 27', 'corr channel 51 and 28', 'corr channel 51 and 29', 'corr channel 51 and 30', 'corr channel 51 and 31', 'corr channel 51 and 32', 'corr channel 51 and 33', 'corr channel 51 and 34', 'corr channel 51 and 35', 'corr channel 51 and 36', 'corr channel 51 and 37', 'corr channel 51 and 38', 'corr channel 51 and 39', 'corr channel 51 and 40', 'corr channel 51 and 41', 'corr channel 51 and 42', 'corr channel 51 and 43', 'corr channel 51 and 44', 'corr channel 51 and 45', 'corr channel 51 and 46', 'corr channel 51 and 47', 'corr channel 51 and 48', 'corr channel 51 and 49', 'corr channel 51 and 50', 'corr channel 52 and 1', 'corr channel 52 and 2', 'corr channel 52 and 3', 'corr channel 52 and 4', 'corr channel 52 and 5', 'corr channel 52 and 6', 'corr channel 52 and 7', 'corr channel 52 and 8', 'corr channel 52 and 9', 'corr channel 52 and 10', 'corr channel 52 and 11', 'corr channel 52 and 12', 'corr channel 52 and 13', 'corr channel 52 and 14', 'corr channel 52 and 15', 'corr channel 52 and 16', 'corr channel 52 and 17', 'corr channel 52 and 18', 'corr channel 52 and 19', 'corr channel 52 and 20', 'corr channel 52 and 21', 'corr channel 52 and 22', 'corr channel 52 and 23', 'corr channel 52 and 24', 'corr channel 52 and 25', 'corr channel 52 and 26', 'corr channel 52 and 27', 'corr channel 52 and 28', 'corr channel 52 and 29', 'corr channel 52 and 30', 'corr channel 52 and 31', 'corr channel 52 and 32', 'corr channel 52 and 33', 'corr channel 52 and 34', 'corr channel 52 and 35', 'corr channel 52 and 36', 'corr channel 52 and 37', 'corr channel 52 and 38', 'corr channel 52 and 39', 'corr channel 52 and 40', 'corr channel 52 and 41', 'corr channel 52 and 42', 'corr channel 52 and 43', 'corr channel 52 and 44', 'corr channel 52 and 45', 'corr channel 52 and 46', 'corr channel 52 and 47', 'corr channel 52 and 48', 'corr channel 52 and 49', 'corr channel 52 and 50', 'corr channel 52 and 51', 'corr channel 53 and 1', 'corr channel 53 and 2', 'corr channel 53 and 3', 'corr channel 53 and 4', 'corr channel 53 and 5', 'corr channel 53 and 6', 'corr channel 53 and 7', 'corr channel 53 and 8', 'corr channel 53 and 9', 'corr channel 53 and 10', 'corr channel 53 and 11', 'corr channel 53 and 12', 'corr channel 53 and 13', 'corr channel 53 and 14', 'corr channel 53 and 15', 'corr channel 53 and 16', 'corr channel 53 and 17', 'corr channel 53 and 18', 'corr channel 53 and 19', 'corr channel 53 and 20', 'corr channel 53 and 21', 'corr channel 53 and 22', 'corr channel 53 and 23', 'corr channel 53 and 24', 'corr channel 53 and 25', 'corr channel 53 and 26', 'corr channel 53 and 27', 'corr channel 53 and 28', 'corr channel 53 and 29', 'corr channel 53 and 30', 'corr channel 53 and 31', 'corr channel 53 and 32', 'corr channel 53 and 33', 'corr channel 53 and 34', 'corr channel 53 and 35', 'corr channel 53 and 36', 'corr channel 53 and 37', 'corr channel 53 and 38', 'corr channel 53 and 39', 'corr channel 53 and 40', 'corr channel 53 and 41', 'corr channel 53 and 42', 'corr channel 53 and 43', 'corr channel 53 and 44', 'corr channel 53 and 45', 'corr channel 53 and 46', 'corr channel 53 and 47', 'corr channel 53 and 48', 'corr channel 53 and 49', 'corr channel 53 and 50', 'corr channel 53 and 51', 'corr channel 53 and 52', 'corr channel 54 and 1', 'corr channel 54 and 2', 'corr channel 54 and 3', 'corr channel 54 and 4', 'corr channel 54 and 5', 'corr channel 54 and 6', 'corr channel 54 and 7', 'corr channel 54 and 8', 'corr channel 54 and 9', 'corr channel 54 and 10', 'corr channel 54 and 11', 'corr channel 54 and 12', 'corr channel 54 and 13', 'corr channel 54 and 14', 'corr channel 54 and 15', 'corr channel 54 and 16', 'corr channel 54 and 17', 'corr channel 54 and 18', 'corr channel 54 and 19', 'corr channel 54 and 20', 'corr channel 54 and 21', 'corr channel 54 and 22', 'corr channel 54 and 23', 'corr channel 54 and 24', 'corr channel 54 and 25', 'corr channel 54 and 26', 'corr channel 54 and 27', 'corr channel 54 and 28', 'corr channel 54 and 29', 'corr channel 54 and 30', 'corr channel 54 and 31', 'corr channel 54 and 32', 'corr channel 54 and 33', 'corr channel 54 and 34', 'corr channel 54 and 35', 'corr channel 54 and 36', 'corr channel 54 and 37', 'corr channel 54 and 38', 'corr channel 54 and 39', 'corr channel 54 and 40', 'corr channel 54 and 41', 'corr channel 54 and 42', 'corr channel 54 and 43', 'corr channel 54 and 44', 'corr channel 54 and 45', 'corr channel 54 and 46', 'corr channel 54 and 47', 'corr channel 54 and 48', 'corr channel 54 and 49', 'corr channel 54 and 50', 'corr channel 54 and 51', 'corr channel 54 and 52', 'corr channel 54 and 53', 'corr channel 55 and 1', 'corr channel 55 and 2', 'corr channel 55 and 3', 'corr channel 55 and 4', 'corr channel 55 and 5', 'corr channel 55 and 6', 'corr channel 55 and 7', 'corr channel 55 and 8', 'corr channel 55 and 9', 'corr channel 55 and 10', 'corr channel 55 and 11', 'corr channel 55 and 12', 'corr channel 55 and 13', 'corr channel 55 and 14', 'corr channel 55 and 15', 'corr channel 55 and 16', 'corr channel 55 and 17', 'corr channel 55 and 18', 'corr channel 55 and 19', 'corr channel 55 and 20', 'corr channel 55 and 21', 'corr channel 55 and 22', 'corr channel 55 and 23', 'corr channel 55 and 24', 'corr channel 55 and 25', 'corr channel 55 and 26', 'corr channel 55 and 27', 'corr channel 55 and 28', 'corr channel 55 and 29', 'corr channel 55 and 30', 'corr channel 55 and 31', 'corr channel 55 and 32', 'corr channel 55 and 33', 'corr channel 55 and 34', 'corr channel 55 and 35', 'corr channel 55 and 36', 'corr channel 55 and 37', 'corr channel 55 and 38', 'corr channel 55 and 39', 'corr channel 55 and 40', 'corr channel 55 and 41', 'corr channel 55 and 42', 'corr channel 55 and 43', 'corr channel 55 and 44', 'corr channel 55 and 45', 'corr channel 55 and 46', 'corr channel 55 and 47', 'corr channel 55 and 48', 'corr channel 55 and 49', 'corr channel 55 and 50', 'corr channel 55 and 51', 'corr channel 55 and 52', 'corr channel 55 and 53', 'corr channel 55 and 54', 'corr channel 56 and 1', 'corr channel 56 and 2', 'corr channel 56 and 3', 'corr channel 56 and 4', 'corr channel 56 and 5', 'corr channel 56 and 6', 'corr channel 56 and 7', 'corr channel 56 and 8', 'corr channel 56 and 9', 'corr channel 56 and 10', 'corr channel 56 and 11', 'corr channel 56 and 12', 'corr channel 56 and 13', 'corr channel 56 and 14', 'corr channel 56 and 15', 'corr channel 56 and 16', 'corr channel 56 and 17', 'corr channel 56 and 18', 'corr channel 56 and 19', 'corr channel 56 and 20', 'corr channel 56 and 21', 'corr channel 56 and 22', 'corr channel 56 and 23', 'corr channel 56 and 24', 'corr channel 56 and 25', 'corr channel 56 and 26', 'corr channel 56 and 27', 'corr channel 56 and 28', 'corr channel 56 and 29', 'corr channel 56 and 30', 'corr channel 56 and 31', 'corr channel 56 and 32', 'corr channel 56 and 33', 'corr channel 56 and 34', 'corr channel 56 and 35', 'corr channel 56 and 36', 'corr channel 56 and 37', 'corr channel 56 and 38', 'corr channel 56 and 39', 'corr channel 56 and 40', 'corr channel 56 and 41', 'corr channel 56 and 42', 'corr channel 56 and 43', 'corr channel 56 and 44', 'corr channel 56 and 45', 'corr channel 56 and 46', 'corr channel 56 and 47', 'corr channel 56 and 48', 'corr channel 56 and 49', 'corr channel 56 and 50', 'corr channel 56 and 51', 'corr channel 56 and 52', 'corr channel 56 and 53', 'corr channel 56 and 54', 'corr channel 56 and 55', 'corr channel 57 and 1', 'corr channel 57 and 2', 'corr channel 57 and 3', 'corr channel 57 and 4', 'corr channel 57 and 5', 'corr channel 57 and 6', 'corr channel 57 and 7', 'corr channel 57 and 8', 'corr channel 57 and 9', 'corr channel 57 and 10', 'corr channel 57 and 11', 'corr channel 57 and 12', 'corr channel 57 and 13', 'corr channel 57 and 14', 'corr channel 57 and 15', 'corr channel 57 and 16', 'corr channel 57 and 17', 'corr channel 57 and 18', 'corr channel 57 and 19', 'corr channel 57 and 20', 'corr channel 57 and 21', 'corr channel 57 and 22', 'corr channel 57 and 23', 'corr channel 57 and 24', 'corr channel 57 and 25', 'corr channel 57 and 26', 'corr channel 57 and 27', 'corr channel 57 and 28', 'corr channel 57 and 29', 'corr channel 57 and 30', 'corr channel 57 and 31', 'corr channel 57 and 32', 'corr channel 57 and 33', 'corr channel 57 and 34', 'corr channel 57 and 35', 'corr channel 57 and 36', 'corr channel 57 and 37', 'corr channel 57 and 38', 'corr channel 57 and 39', 'corr channel 57 and 40', 'corr channel 57 and 41', 'corr channel 57 and 42', 'corr channel 57 and 43', 'corr channel 57 and 44', 'corr channel 57 and 45', 'corr channel 57 and 46', 'corr channel 57 and 47', 'corr channel 57 and 48', 'corr channel 57 and 49', 'corr channel 57 and 50', 'corr channel 57 and 51', 'corr channel 57 and 52', 'corr channel 57 and 53', 'corr channel 57 and 54', 'corr channel 57 and 55', 'corr channel 57 and 56', 'corr channel 58 and 1', 'corr channel 58 and 2', 'corr channel 58 and 3', 'corr channel 58 and 4', 'corr channel 58 and 5', 'corr channel 58 and 6', 'corr channel 58 and 7', 'corr channel 58 and 8', 'corr channel 58 and 9', 'corr channel 58 and 10', 'corr channel 58 and 11', 'corr channel 58 and 12', 'corr channel 58 and 13', 'corr channel 58 and 14', 'corr channel 58 and 15', 'corr channel 58 and 16', 'corr channel 58 and 17', 'corr channel 58 and 18', 'corr channel 58 and 19', 'corr channel 58 and 20', 'corr channel 58 and 21', 'corr channel 58 and 22', 'corr channel 58 and 23', 'corr channel 58 and 24', 'corr channel 58 and 25', 'corr channel 58 and 26', 'corr channel 58 and 27', 'corr channel 58 and 28', 'corr channel 58 and 29', 'corr channel 58 and 30', 'corr channel 58 and 31', 'corr channel 58 and 32', 'corr channel 58 and 33', 'corr channel 58 and 34', 'corr channel 58 and 35', 'corr channel 58 and 36', 'corr channel 58 and 37', 'corr channel 58 and 38', 'corr channel 58 and 39', 'corr channel 58 and 40', 'corr channel 58 and 41', 'corr channel 58 and 42', 'corr channel 58 and 43', 'corr channel 58 and 44', 'corr channel 58 and 45', 'corr channel 58 and 46', 'corr channel 58 and 47', 'corr channel 58 and 48', 'corr channel 58 and 49', 'corr channel 58 and 50', 'corr channel 58 and 51', 'corr channel 58 and 52', 'corr channel 58 and 53', 'corr channel 58 and 54', 'corr channel 58 and 55', 'corr channel 58 and 56', 'corr channel 58 and 57', 'corr channel 59 and 1', 'corr channel 59 and 2', 'corr channel 59 and 3', 'corr channel 59 and 4', 'corr channel 59 and 5', 'corr channel 59 and 6', 'corr channel 59 and 7', 'corr channel 59 and 8', 'corr channel 59 and 9', 'corr channel 59 and 10', 'corr channel 59 and 11', 'corr channel 59 and 12', 'corr channel 59 and 13', 'corr channel 59 and 14', 'corr channel 59 and 15', 'corr channel 59 and 16', 'corr channel 59 and 17', 'corr channel 59 and 18', 'corr channel 59 and 19', 'corr channel 59 and 20', 'corr channel 59 and 21', 'corr channel 59 and 22', 'corr channel 59 and 23', 'corr channel 59 and 24', 'corr channel 59 and 25', 'corr channel 59 and 26', 'corr channel 59 and 27', 'corr channel 59 and 28', 'corr channel 59 and 29', 'corr channel 59 and 30', 'corr channel 59 and 31', 'corr channel 59 and 32', 'corr channel 59 and 33', 'corr channel 59 and 34', 'corr channel 59 and 35', 'corr channel 59 and 36', 'corr channel 59 and 37', 'corr channel 59 and 38', 'corr channel 59 and 39', 'corr channel 59 and 40', 'corr channel 59 and 41', 'corr channel 59 and 42', 'corr channel 59 and 43', 'corr channel 59 and 44', 'corr channel 59 and 45', 'corr channel 59 and 46', 'corr channel 59 and 47', 'corr channel 59 and 48', 'corr channel 59 and 49', 'corr channel 59 and 50', 'corr channel 59 and 51', 'corr channel 59 and 52', 'corr channel 59 and 53', 'corr channel 59 and 54', 'corr channel 59 and 55', 'corr channel 59 and 56', 'corr channel 59 and 57', 'corr channel 59 and 58', 'maxfreq channel 1', 'maxfreq channel 2', 'maxfreq channel 3', 'maxfreq channel 4', 'maxfreq channel 5', 'maxfreq channel 6', 'maxfreq channel 7', 'maxfreq channel 8', 'maxfreq channel 9', 'maxfreq channel 10', 'maxfreq channel 11', 'maxfreq channel 12', 'maxfreq channel 13', 'maxfreq channel 14', 'maxfreq channel 15', 'maxfreq channel 16', 'maxfreq channel 17', 'maxfreq channel 18', 'maxfreq channel 19', 'maxfreq channel 20', 'maxfreq channel 21', 'maxfreq channel 22', 'maxfreq channel 23', 'maxfreq channel 24', 'maxfreq channel 25', 'maxfreq channel 26', 'maxfreq channel 27', 'maxfreq channel 28', 'maxfreq channel 29', 'maxfreq channel 30', 'maxfreq channel 31', 'maxfreq channel 32', 'maxfreq channel 33', 'maxfreq channel 34', 'maxfreq channel 35', 'maxfreq channel 36', 'maxfreq channel 37', 'maxfreq channel 38', 'maxfreq channel 39', 'maxfreq channel 40', 'maxfreq channel 41', 'maxfreq channel 42', 'maxfreq channel 43', 'maxfreq channel 44', 'maxfreq channel 45', 'maxfreq channel 46', 'maxfreq channel 47', 'maxfreq channel 48', 'maxfreq channel 49', 'maxfreq channel 50', 'maxfreq channel 51', 'maxfreq channel 52', 'maxfreq channel 53', 'maxfreq channel 54', 'maxfreq channel 55', 'maxfreq channel 56', 'maxfreq channel 57', 'maxfreq channel 58', 'maxfreq channel 59', 'meanfreq channel 1', 'meanfreq channel 2', 'meanfreq channel 3', 'meanfreq channel 4', 'meanfreq channel 5', 'meanfreq channel 6', 'meanfreq channel 7', 'meanfreq channel 8', 'meanfreq channel 9', 'meanfreq channel 10', 'meanfreq channel 11', 'meanfreq channel 12', 'meanfreq channel 13', 'meanfreq channel 14', 'meanfreq channel 15', 'meanfreq channel 16', 'meanfreq channel 17', 'meanfreq channel 18', 'meanfreq channel 19', 'meanfreq channel 20', 'meanfreq channel 21', 'meanfreq channel 22', 'meanfreq channel 23', 'meanfreq channel 24', 'meanfreq channel 25', 'meanfreq channel 26', 'meanfreq channel 27', 'meanfreq channel 28', 'meanfreq channel 29', 'meanfreq channel 30', 'meanfreq channel 31', 'meanfreq channel 32', 'meanfreq channel 33', 'meanfreq channel 34', 'meanfreq channel 35', 'meanfreq channel 36', 'meanfreq channel 37', 'meanfreq channel 38', 'meanfreq channel 39', 'meanfreq channel 40', 'meanfreq channel 41', 'meanfreq channel 42', 'meanfreq channel 43', 'meanfreq channel 44', 'meanfreq channel 45', 'meanfreq channel 46', 'meanfreq channel 47', 'meanfreq channel 48', 'meanfreq channel 49', 'meanfreq channel 50', 'meanfreq channel 51', 'meanfreq channel 52', 'meanfreq channel 53', 'meanfreq channel 54', 'meanfreq channel 55', 'meanfreq channel 56', 'meanfreq channel 57', 'meanfreq channel 58', 'meanfreq channel 59', 'medfreq channel 1', 'medfreq channel 2', 'medfreq channel 3', 'medfreq channel 4', 'medfreq channel 5', 'medfreq channel 6', 'medfreq channel 7', 'medfreq channel 8', 'medfreq channel 9', 'medfreq channel 10', 'medfreq channel 11', 'medfreq channel 12', 'medfreq channel 13', 'medfreq channel 14', 'medfreq channel 15', 'medfreq channel 16', 'medfreq channel 17', 'medfreq channel 18', 'medfreq channel 19', 'medfreq channel 20', 'medfreq channel 21', 'medfreq channel 22', 'medfreq channel 23', 'medfreq channel 24', 'medfreq channel 25', 'medfreq channel 26', 'medfreq channel 27', 'medfreq channel 28', 'medfreq channel 29', 'medfreq channel 30', 'medfreq channel 31', 'medfreq channel 32', 'medfreq channel 33', 'medfreq channel 34', 'medfreq channel 35', 'medfreq channel 36', 'medfreq channel 37', 'medfreq channel 38', 'medfreq channel 39', 'medfreq channel 40', 'medfreq channel 41', 'medfreq channel 42', 'medfreq channel 43', 'medfreq channel 44', 'medfreq channel 45', 'medfreq channel 46', 'medfreq channel 47', 'medfreq channel 48', 'medfreq channel 49', 'medfreq channel 50', 'medfreq channel 51', 'medfreq channel 52', 'medfreq channel 53', 'medfreq channel 54', 'medfreq channel 55', 'medfreq channel 56', 'medfreq channel 57', 'medfreq channel 58', 'medfreq channel 59', 'delta channel 1', 'theta channel 1', 'alpha channel 1', 'low range beta channel 1', 'mid range beta channel 1', 'high range beta channel 1', 'gamma channel 1', 'delta channel 2', 'theta channel 2', 'alpha channel 2', 'low range beta channel 2', 'mid range beta channel 2', 'high range beta channel 2', 'gamma channel 2', 'delta channel 3', 'theta channel 3', 'alpha channel 3', 'low range beta channel 3', 'mid range beta channel 3', 'high range beta channel 3', 'gamma channel 3', 'delta channel 4', 'theta channel 4', 'alpha channel 4', 'low range beta channel 4', 'mid range beta channel 4', 'high range beta channel 4', 'gamma channel 4', 'delta channel 5', 'theta channel 5', 'alpha channel 5', 'low range beta channel 5', 'mid range beta channel 5', 'high range beta channel 5', 'gamma channel 5', 'delta channel 6', 'theta channel 6', 'alpha channel 6', 'low range beta channel 6', 'mid range beta channel 6', 'high range beta channel 6', 'gamma channel 6', 'delta channel 7', 'theta channel 7', 'alpha channel 7', 'low range beta channel 7', 'mid range beta channel 7', 'high range beta channel 7', 'gamma channel 7', 'delta channel 8', 'theta channel 8', 'alpha channel 8', 'low range beta channel 8', 'mid range beta channel 8', 'high range beta channel 8', 'gamma channel 8', 'delta channel 9', 'theta channel 9', 'alpha channel 9', 'low range beta channel 9', 'mid range beta channel 9', 'high range beta channel 9', 'gamma channel 9', 'delta channel 10', 'theta channel 10', 'alpha channel 10', 'low range beta channel 10', 'mid range beta channel 10', 'high range beta channel 10', 'gamma channel 10', 'delta channel 11', 'theta channel 11', 'alpha channel 11', 'low range beta channel 11', 'mid range beta channel 11', 'high range beta channel 11', 'gamma channel 11', 'delta channel 12', 'theta channel 12', 'alpha channel 12', 'low range beta channel 12', 'mid range beta channel 12', 'high range beta channel 12', 'gamma channel 12', 'delta channel 13', 'theta channel 13', 'alpha channel 13', 'low range beta channel 13', 'mid range beta channel 13', 'high range beta channel 13', 'gamma channel 13', 'delta channel 14', 'theta channel 14', 'alpha channel 14', 'low range beta channel 14', 'mid range beta channel 14', 'high range beta channel 14', 'gamma channel 14', 'delta channel 15', 'theta channel 15', 'alpha channel 15', 'low range beta channel 15', 'mid range beta channel 15', 'high range beta channel 15', 'gamma channel 15', 'delta channel 16', 'theta channel 16', 'alpha channel 16', 'low range beta channel 16', 'mid range beta channel 16', 'high range beta channel 16', 'gamma channel 16', 'delta channel 17', 'theta channel 17', 'alpha channel 17', 'low range beta channel 17', 'mid range beta channel 17', 'high range beta channel 17', 'gamma channel 17', 'delta channel 18', 'theta channel 18', 'alpha channel 18', 'low range beta channel 18', 'mid range beta channel 18', 'high range beta channel 18', 'gamma channel 18', 'delta channel 19', 'theta channel 19', 'alpha channel 19', 'low range beta channel 19', 'mid range beta channel 19', 'high range beta channel 19', 'gamma channel 19', 'delta channel 20', 'theta channel 20', 'alpha channel 20', 'low range beta channel 20', 'mid range beta channel 20', 'high range beta channel 20', 'gamma channel 20', 'delta channel 21', 'theta channel 21', 'alpha channel 21', 'low range beta channel 21', 'mid range beta channel 21', 'high range beta channel 21', 'gamma channel 21', 'delta channel 22', 'theta channel 22', 'alpha channel 22', 'low range beta channel 22', 'mid range beta channel 22', 'high range beta channel 22', 'gamma channel 22', 'delta channel 23', 'theta channel 23', 'alpha channel 23', 'low range beta channel 23', 'mid range beta channel 23', 'high range beta channel 23', 'gamma channel 23', 'delta channel 24', 'theta channel 24', 'alpha channel 24', 'low range beta channel 24', 'mid range beta channel 24', 'high range beta channel 24', 'gamma channel 24', 'delta channel 25', 'theta channel 25', 'alpha channel 25', 'low range beta channel 25', 'mid range beta channel 25', 'high range beta channel 25', 'gamma channel 25', 'delta channel 26', 'theta channel 26', 'alpha channel 26', 'low range beta channel 26', 'mid range beta channel 26', 'high range beta channel 26', 'gamma channel 26', 'delta channel 27', 'theta channel 27', 'alpha channel 27', 'low range beta channel 27', 'mid range beta channel 27', 'high range beta channel 27', 'gamma channel 27', 'delta channel 28', 'theta channel 28', 'alpha channel 28', 'low range beta channel 28', 'mid range beta channel 28', 'high range beta channel 28', 'gamma channel 28', 'delta channel 29', 'theta channel 29', 'alpha channel 29', 'low range beta channel 29', 'mid range beta channel 29', 'high range beta channel 29', 'gamma channel 29', 'delta channel 30', 'theta channel 30', 'alpha channel 30', 'low range beta channel 30', 'mid range beta channel 30', 'high range beta channel 30', 'gamma channel 30', 'delta channel 31', 'theta channel 31', 'alpha channel 31', 'low range beta channel 31', 'mid range beta channel 31', 'high range beta channel 31', 'gamma channel 31', 'delta channel 32', 'theta channel 32', 'alpha channel 32', 'low range beta channel 32', 'mid range beta channel 32', 'high range beta channel 32', 'gamma channel 32', 'delta channel 33', 'theta channel 33', 'alpha channel 33', 'low range beta channel 33', 'mid range beta channel 33', 'high range beta channel 33', 'gamma channel 33', 'delta channel 34', 'theta channel 34', 'alpha channel 34', 'low range beta channel 34', 'mid range beta channel 34', 'high range beta channel 34', 'gamma channel 34', 'delta channel 35', 'theta channel 35', 'alpha channel 35', 'low range beta channel 35', 'mid range beta channel 35', 'high range beta channel 35', 'gamma channel 35', 'delta channel 36', 'theta channel 36', 'alpha channel 36', 'low range beta channel 36', 'mid range beta channel 36', 'high range beta channel 36', 'gamma channel 36', 'delta channel 37', 'theta channel 37', 'alpha channel 37', 'low range beta channel 37', 'mid range beta channel 37', 'high range beta channel 37', 'gamma channel 37', 'delta channel 38', 'theta channel 38', 'alpha channel 38', 'low range beta channel 38', 'mid range beta channel 38', 'high range beta channel 38', 'gamma channel 38', 'delta channel 39', 'theta channel 39', 'alpha channel 39', 'low range beta channel 39', 'mid range beta channel 39', 'high range beta channel 39', 'gamma channel 39', 'delta channel 40', 'theta channel 40', 'alpha channel 40', 'low range beta channel 40', 'mid range beta channel 40', 'high range beta channel 40', 'gamma channel 40', 'delta channel 41', 'theta channel 41', 'alpha channel 41', 'low range beta channel 41', 'mid range beta channel 41', 'high range beta channel 41', 'gamma channel 41', 'delta channel 42', 'theta channel 42', 'alpha channel 42', 'low range beta channel 42', 'mid range beta channel 42', 'high range beta channel 42', 'gamma channel 42', 'delta channel 43', 'theta channel 43', 'alpha channel 43', 'low range beta channel 43', 'mid range beta channel 43', 'high range beta channel 43', 'gamma channel 43', 'delta channel 44', 'theta channel 44', 'alpha channel 44', 'low range beta channel 44', 'mid range beta channel 44', 'high range beta channel 44', 'gamma channel 44', 'delta channel 45', 'theta channel 45', 'alpha channel 45', 'low range beta channel 45', 'mid range beta channel 45', 'high range beta channel 45', 'gamma channel 45', 'delta channel 46', 'theta channel 46', 'alpha channel 46', 'low range beta channel 46', 'mid range beta channel 46', 'high range beta channel 46', 'gamma channel 46', 'delta channel 47', 'theta channel 47', 'alpha channel 47', 'low range beta channel 47', 'mid range beta channel 47', 'high range beta channel 47', 'gamma channel 47', 'delta channel 48', 'theta channel 48', 'alpha channel 48', 'low range beta channel 48', 'mid range beta channel 48', 'high range beta channel 48', 'gamma channel 48', 'delta channel 49', 'theta channel 49', 'alpha channel 49', 'low range beta channel 49', 'mid range beta channel 49', 'high range beta channel 49', 'gamma channel 49', 'delta channel 50', 'theta channel 50', 'alpha channel 50', 'low range beta channel 50', 'mid range beta channel 50', 'high range beta channel 50', 'gamma channel 50', 'delta channel 51', 'theta channel 51', 'alpha channel 51', 'low range beta channel 51', 'mid range beta channel 51', 'high range beta channel 51', 'gamma channel 51', 'delta channel 52', 'theta channel 52', 'alpha channel 52', 'low range beta channel 52', 'mid range beta channel 52', 'high range beta channel 52', 'gamma channel 52', 'delta channel 53', 'theta channel 53', 'alpha channel 53', 'low range beta channel 53', 'mid range beta channel 53', 'high range beta channel 53', 'gamma channel 53', 'delta channel 54', 'theta channel 54', 'alpha channel 54', 'low range beta channel 54', 'mid range beta channel 54', 'high range beta channel 54', 'gamma channel 54', 'delta channel 55', 'theta channel 55', 'alpha channel 55', 'low range beta channel 55', 'mid range beta channel 55', 'high range beta channel 55', 'gamma channel 55', 'delta channel 56', 'theta channel 56', 'alpha channel 56', 'low range beta channel 56', 'mid range beta channel 56', 'high range beta channel 56', 'gamma channel 56', 'delta channel 57', 'theta channel 57', 'alpha channel 57', 'low range beta channel 57', 'mid range beta channel 57', 'high range beta channel 57', 'gamma channel 57', 'delta channel 58', 'theta channel 58', 'alpha channel 58', 'low range beta channel 58', 'mid range beta channel 58', 'high range beta channel 58', 'gamma channel 58', 'delta channel 59', 'theta channel 59', 'alpha channel 59', 'low range beta channel 59', 'mid range beta channel 59', 'high range beta channel 59', 'gamma channel 59']\n"
     ]
    }
   ],
   "source": [
    "features=[]\n",
    "\n",
    "for i in range(59):\n",
    "    features.append(\"var channel \"+str(i+1))\n",
    "    \n",
    "for i in range(59):\n",
    "    for bin in range(10):\n",
    "        features.append(\"bin \"+str(bin+1)+\" channel \"+str(i+1))\n",
    "        \n",
    "for i in range(59):\n",
    "    features.append(\"form factor channel \"+str(i+1))\n",
    "    \n",
    "for i in range(59):\n",
    "    for j in range(59):\n",
    "        if i>j:\n",
    "            features.append(\"corr channel \"+str(i+1)+\" and \"+str(j+1))\n",
    "\n",
    "for i in range(59):\n",
    "    features.append(\"maxfreq channel \"+str(i+1))\n",
    "\n",
    "for i in range(59):\n",
    "    features.append(\"meanfreq channel \"+str(i+1))\n",
    "\n",
    "for i in range(59):\n",
    "    features.append(\"medfreq channel \"+str(i+1))\n",
    "    \n",
    "for i in range(59):\n",
    "    features.append(\"delta channel \"+str(i+1))\n",
    "    features.append(\"theta channel \"+str(i+1))\n",
    "    features.append(\"alpha channel \"+str(i+1))\n",
    "    features.append(\"low range beta channel \"+str(i+1))\n",
    "    features.append(\"mid range beta channel \"+str(i+1))\n",
    "    features.append(\"high range beta channel \"+str(i+1))\n",
    "    features.append(\"gamma channel \"+str(i+1))\n",
    "    \n",
    "print(features)\n"
   ]
  },
  {
   "cell_type": "code",
   "execution_count": 32,
   "metadata": {},
   "outputs": [
    {
     "name": "stdout",
     "output_type": "stream",
     "text": [
      "theta channel 57\n",
      "theta channel 59\n",
      "theta channel 50\n",
      "bin 3 channel 11\n",
      "medfreq channel 43\n",
      "gamma channel 43\n",
      "bin 4 channel 20\n",
      "bin 6 channel 11\n",
      "meanfreq channel 23\n",
      "bin 4 channel 49\n",
      "maxfreq channel 24\n",
      "bin 3 channel 9\n",
      "bin 7 channel 20\n",
      "maxfreq channel 43\n",
      "bin 6 channel 20\n",
      "theta channel 52\n",
      "maxfreq channel 23\n",
      "gamma channel 23\n",
      "bin 7 channel 49\n",
      "delta channel 43\n",
      "delta channel 51\n",
      "bin 2 channel 11\n",
      "bin 3 channel 49\n",
      "medfreq channel 23\n",
      "theta channel 58\n",
      "medfreq channel 56\n",
      "bin 4 channel 9\n",
      "gamma channel 54\n",
      "medfreq channel 33\n",
      "medfreq channel 59\n",
      "medfreq channel 54\n",
      "bin 7 channel 9\n",
      "bin 4 channel 11\n",
      "meanfreq channel 33\n",
      "mid range beta channel 7\n",
      "meanfreq channel 59\n",
      "bin 6 channel 9\n",
      "high range beta channel 43\n",
      "maxfreq channel 54\n",
      "maxfreq channel 51\n",
      "bin 5 channel 25\n",
      "medfreq channel 47\n",
      "gamma channel 33\n",
      "bin 6 channel 18\n",
      "bin 8 channel 20\n",
      "var channel 43\n",
      "bin 7 channel 11\n",
      "high range beta channel 47\n",
      "meanfreq channel 56\n",
      "gamma channel 36\n"
     ]
    }
   ],
   "source": [
    "for i in range(50):\n",
    "    print(features[indexs[i]])"
   ]
  },
  {
   "cell_type": "code",
   "execution_count": 34,
   "metadata": {},
   "outputs": [],
   "source": [
    "df = pd.DataFrame(features_count[:,1:], columns=features)\n",
    "df.to_csv('features_count.csv', index=False)"
   ]
  },
  {
   "cell_type": "code",
   "execution_count": 40,
   "metadata": {},
   "outputs": [
    {
     "name": "stdout",
     "output_type": "stream",
     "text": [
      "(550, 3009)\n",
      "(550, 50)\n"
     ]
    }
   ],
   "source": [
    "features_count=pd.read_csv(\"features_count.csv\")\n",
    "print(features_count.shape)\n",
    "features_count=features_count.to_numpy()[:,indexs]\n",
    "print(features_count.shape)\n",
    "\n",
    "df = pd.DataFrame(features_count, columns=np.array(features)[indexs])\n",
    "df.to_csv('selcted_features_count.csv', index=False)"
   ]
  },
  {
   "cell_type": "code",
   "execution_count": 43,
   "metadata": {},
   "outputs": [
    {
     "data": {
      "text/plain": [
       "(550, 50)"
      ]
     },
     "execution_count": 43,
     "metadata": {},
     "output_type": "execute_result"
    }
   ],
   "source": [
    "selcted_features_count=pd.read_csv(\"selcted_features_count.csv\")\n",
    "selcted_features_count.to_numpy().shape"
   ]
  },
  {
   "cell_type": "code",
   "execution_count": null,
   "metadata": {},
   "outputs": [],
   "source": []
  }
 ],
 "metadata": {
  "colab": {
   "provenance": []
  },
  "kernelspec": {
   "display_name": "Python 3 (ipykernel)",
   "language": "python",
   "name": "python3"
  },
  "language_info": {
   "codemirror_mode": {
    "name": "ipython",
    "version": 3
   },
   "file_extension": ".py",
   "mimetype": "text/x-python",
   "name": "python",
   "nbconvert_exporter": "python",
   "pygments_lexer": "ipython3",
   "version": "3.11.5"
  }
 },
 "nbformat": 4,
 "nbformat_minor": 1
}
