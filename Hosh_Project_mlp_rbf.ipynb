{
  "nbformat": 4,
  "nbformat_minor": 0,
  "metadata": {
    "colab": {
      "provenance": []
    },
    "kernelspec": {
      "name": "python3",
      "display_name": "Python 3"
    },
    "language_info": {
      "name": "python"
    }
  },
  "cells": [
    {
      "cell_type": "markdown",
      "source": [
        "# IMPORT"
      ],
      "metadata": {
        "id": "4-U5c12_5Qye"
      }
    },
    {
      "cell_type": "code",
      "execution_count": null,
      "metadata": {
        "id": "6bKGsLeB4zG6"
      },
      "outputs": [],
      "source": [
        "from tensorflow import keras\n",
        "from keras import layers, Sequential\n",
        "import numpy as np\n",
        "import pandas as pd\n",
        "from keras import backend as K\n",
        "from keras.utils import  to_categorical\n",
        "from sklearn.model_selection import KFold\n",
        "from scipy.io import loadmat\n",
        "from sklearn.metrics import accuracy_score\n",
        "from sklearn.preprocessing import StandardScaler,MinMaxScaler\n"
      ]
    },
    {
      "cell_type": "code",
      "source": [
        "!wget -nc -O dataset.zip https://www.dropbox.com/scl/fo/9ppie6m2voe9s68ato4iv/h?rlkey=m23k38d3xka34l9kdytpxm0ex&dl=0\n",
        "!unzip -n -d dataset dataset.zip"
      ],
      "metadata": {
        "colab": {
          "base_uri": "https://localhost:8080/"
        },
        "id": "RYhsBuwCKO2v",
        "outputId": "8b81cad2-a809-42f9-f1a6-01344a06f93d"
      },
      "execution_count": null,
      "outputs": [
        {
          "output_type": "stream",
          "name": "stdout",
          "text": [
            "File ‘dataset.zip’ already there; not retrieving.\n",
            "Archive:  dataset.zip\n",
            "warning:  stripped absolute path spec from /\n",
            "mapname:  conversion of  failed\n"
          ]
        }
      ]
    },
    {
      "cell_type": "markdown",
      "source": [
        "# IMPORT DATA"
      ],
      "metadata": {
        "id": "qiwlNn-VKAtB"
      }
    },
    {
      "cell_type": "code",
      "source": [
        "X = pd.read_csv(\"selected_features.csv\")\n",
        "data = loadmat('dataset/Project_data.mat')\n"
      ],
      "metadata": {
        "id": "n9zmTHjiJ-_3"
      },
      "execution_count": null,
      "outputs": []
    },
    {
      "cell_type": "code",
      "source": [
        "X = X.to_numpy()\n"
      ],
      "metadata": {
        "id": "xPLG-OVNHVei"
      },
      "execution_count": null,
      "outputs": []
    },
    {
      "cell_type": "code",
      "source": [
        "y = data['TrainLabels'].T\n",
        "y[ y == -1] = 0"
      ],
      "metadata": {
        "id": "pZnX-CqrLVsx"
      },
      "execution_count": null,
      "outputs": []
    },
    {
      "cell_type": "markdown",
      "source": [
        "# VARIABLES"
      ],
      "metadata": {
        "id": "c3bbkg363SpY"
      }
    },
    {
      "cell_type": "code",
      "source": [
        "input_shape = 50 #TODO calculate using features size\n",
        "epochs = 30"
      ],
      "metadata": {
        "id": "bCrVuOfL3RyW"
      },
      "execution_count": null,
      "outputs": []
    },
    {
      "cell_type": "code",
      "source": [
        "X.shape"
      ],
      "metadata": {
        "colab": {
          "base_uri": "https://localhost:8080/"
        },
        "id": "QDnMw_yS_cHB",
        "outputId": "cabf480c-c3bb-45d0-a562-1beb6416a5d2"
      },
      "execution_count": null,
      "outputs": [
        {
          "output_type": "execute_result",
          "data": {
            "text/plain": [
              "(550, 50)"
            ]
          },
          "metadata": {},
          "execution_count": 42
        }
      ]
    },
    {
      "cell_type": "code",
      "source": [
        "def normalize(feature):\n",
        "    scaler = MinMaxScaler()\n",
        "    normalized_feature = scaler.fit_transform(feature)\n",
        "    return normalized_feature"
      ],
      "metadata": {
        "id": "PST5A1ayKZqK"
      },
      "execution_count": null,
      "outputs": []
    },
    {
      "cell_type": "code",
      "source": [
        "X=normalize(X)"
      ],
      "metadata": {
        "id": "CawZR6b5K8f4"
      },
      "execution_count": null,
      "outputs": []
    },
    {
      "cell_type": "markdown",
      "source": [
        "# DEFINITIONS"
      ],
      "metadata": {
        "id": "m9hNCzN65Tk8"
      }
    },
    {
      "cell_type": "code",
      "source": [
        "class RBFLayer(layers.Layer):\n",
        "    def __init__(self, units, gamma, **kwargs):\n",
        "        super(RBFLayer, self).__init__(**kwargs)\n",
        "        self.units = units\n",
        "        self.gamma = K.cast_to_floatx(gamma)\n",
        "\n",
        "    def build(self, input_shape):\n",
        "        self.mu = self.add_weight(name='mu',\n",
        "                                  shape=(int(input_shape[1]), self.units),\n",
        "                                  initializer='uniform',\n",
        "                                  trainable=True)\n",
        "        super(RBFLayer, self).build(input_shape)\n",
        "\n",
        "    def call(self, inputs):\n",
        "        diff = K.expand_dims(inputs) - self.mu\n",
        "        l2 = K.sum(K.pow(diff,2), axis=1)\n",
        "        res = K.exp(-1 * self.gamma * l2)\n",
        "        return res\n",
        "\n",
        "    def compute_output_shape(self, input_shape):\n",
        "        return (input_shape[0], self.units)"
      ],
      "metadata": {
        "id": "DJPxHkao46QS"
      },
      "execution_count": null,
      "outputs": []
    },
    {
      "cell_type": "markdown",
      "source": [
        "# MODELS"
      ],
      "metadata": {
        "id": "ouuj7NE85Wdd"
      }
    },
    {
      "cell_type": "code",
      "source": [
        "model_mlp_sigmoid = Sequential([\n",
        "    layers.InputLayer(input_shape=(input_shape,)),\n",
        "    layers.Dense(units = 32 , activation = \"relu\"),\n",
        "    layers.Dense(units = 64 , activation = \"relu\"),\n",
        "    layers.Dense(units = 128 , activation = \"relu\"),\n",
        "    layers.Dense(units = 64 , activation = \"relu\"),\n",
        "    layers.Dense(units = 32 , activation = \"relu\"),\n",
        "    layers.Dense(units = 1 , activation = \"sigmoid\"),\n",
        "])\n",
        "model_mlp_softmax = Sequential([\n",
        "    layers.InputLayer(input_shape=(input_shape,)),\n",
        "    layers.Dense(units = 32 , activation = \"relu\"),\n",
        "    layers.Dense(units = 64 , activation = \"relu\"),\n",
        "    layers.Dense(units = 128 , activation = \"relu\"),\n",
        "    layers.Dense(units = 64 , activation = \"relu\"),\n",
        "    layers.Dense(units = 32 , activation = \"relu\"),\n",
        "    layers.Dense(units = 2 , activation = \"softmax\"),\n",
        "])\n",
        "model_mlp_sigmoid.compile(optimizer = \"adam\" , loss = \"binary_crossentropy\" , metrics = [\"accuracy\", \"binary_accuracy\"])\n",
        "model_mlp_softmax.compile(optimizer = \"adam\" , loss = \"categorical_crossentropy\" , metrics = [\"accuracy\", \"categorical_accuracy\"])"
      ],
      "metadata": {
        "id": "0Oa27Nzp5YP2"
      },
      "execution_count": null,
      "outputs": []
    },
    {
      "cell_type": "code",
      "source": [
        "model_rbf_sigmoid = keras.Sequential([\n",
        "    layers.InputLayer(input_shape=(input_shape,)),\n",
        "    layers.experimental.RandomFourierFeatures(output_dim=550,scale=10.,kernel_initializer='gaussian'),\n",
        "    layers.Dense(units=1, activation='sigmoid'),\n",
        "])\n",
        "model_rbf_softmax = keras.Sequential([\n",
        "    layers.InputLayer(input_shape=(input_shape,)),\n",
        "    layers.experimental.RandomFourierFeatures(output_dim=550,scale=10.,kernel_initializer='gaussian'),\n",
        "    layers.Dense(units=2, activation='softmax'),\n",
        "])\n",
        "model_rbf_sigmoid.compile(optimizer='adam',loss='binary_crossentropy',metrics = [\"accuracy\", \"binary_accuracy\"])\n",
        "model_rbf_softmax.compile(optimizer='adam',loss='categorical_crossentropy',metrics = [\"accuracy\", \"categorical_accuracy\"])"
      ],
      "metadata": {
        "id": "l7uDWmtK7SOs"
      },
      "execution_count": null,
      "outputs": []
    },
    {
      "cell_type": "code",
      "source": [
        "model_2_rbf_sigmoid = keras.Sequential([\n",
        "    layers.InputLayer(input_shape=(input_shape,)),\n",
        "    RBFLayer(550, 0.5),\n",
        "    layers.Dense(units=1, activation='sigmoid'),\n",
        "])\n",
        "model_2_rbf_softmax = keras.Sequential([\n",
        "    layers.InputLayer(input_shape=(input_shape,)),\n",
        "    RBFLayer(550, 0.5),\n",
        "    layers.Dense(units=2, activation='softmax'),\n",
        "])\n",
        "model_2_rbf_sigmoid.compile(optimizer='adam',loss='binary_crossentropy',metrics = [\"accuracy\", \"binary_accuracy\"])\n",
        "model_2_rbf_softmax.compile(optimizer='adam',loss='categorical_crossentropy',metrics = [\"accuracy\", \"categorical_accuracy\"])"
      ],
      "metadata": {
        "id": "cmNYXONB87tp"
      },
      "execution_count": null,
      "outputs": []
    },
    {
      "cell_type": "code",
      "source": [
        "kf = KFold(n_splits=5)\n",
        "# kf.get_n_splits(X)\n",
        "histories =  []\n",
        "histories_mlp_sigmoid =[]\n",
        "histories_mlp_softmax =[]\n",
        "histories_rbf_1_sigmoid =[]\n",
        "histories_rbf_1_softmax =[]\n",
        "histories_rbf_2_sigmoid =[]\n",
        "fold_accuracies = []\n",
        "kf.get_n_splits(X)"
      ],
      "metadata": {
        "colab": {
          "base_uri": "https://localhost:8080/"
        },
        "id": "bCwylChv2rKp",
        "outputId": "2aeb5c50-238b-4803-f968-0d4f161da962"
      },
      "execution_count": null,
      "outputs": [
        {
          "output_type": "execute_result",
          "data": {
            "text/plain": [
              "5"
            ]
          },
          "metadata": {},
          "execution_count": 49
        }
      ]
    },
    {
      "cell_type": "code",
      "source": [
        "for i, (train_index, test_index) in enumerate(kf.split(X)):\n",
        "    # print(train_index)\n",
        "    X_train = X[train_index , :]\n",
        "    y_train = y[train_index , :]\n",
        "    X_valid = X[test_index , :]\n",
        "    y_valid = y[test_index , :]\n",
        "    y_categorized = to_categorical(y)\n",
        "    y_train_categorized = y_categorized[train_index , :]\n",
        "    y_valid_categorized = y_categorized[test_index , :]\n",
        "    #TODO after import Data open codes\n",
        "    print(f\"##################### Fold :{i} started #####################\")\n",
        "    print(\"MLP sigmoid started\")\n",
        "    history_mlp_sigmoid = model_mlp_sigmoid.fit(X_train , y_train , epochs= epochs , validation_data = (X_valid, y_valid), verbose = 0)\n",
        "    print(\"MLP sigmoid finished\")\n",
        "    histories_mlp_sigmoid.append(history_mlp_sigmoid)\n",
        "    print(\"MLP softmax started\")\n",
        "    history_mlp_softmax = model_mlp_softmax.fit(X_train , y_train_categorized , epochs= epochs , validation_data = (X_valid, y_valid_categorized), verbose = 0)\n",
        "    print(\"MLP softmax finished\")\n",
        "    histories_mlp_softmax.append(history_mlp_softmax)\n",
        "    #TODO after import Data open codes\n",
        "    print(\"RBF keras builtin sigmoid started\")\n",
        "    history_rbf_sigmoid = model_rbf_sigmoid.fit(X_train , y_train , epochs= epochs , validation_data = (X_valid, y_valid), verbose = 0)\n",
        "    print(\"RBF keras builtin sigmoid finished\")\n",
        "    histories_rbf_1_sigmoid.append(history_rbf_sigmoid)\n",
        "    print(\"RBF keras builtin softmax started\")\n",
        "    history_rbf_softmax = model_rbf_softmax.fit(X_train , y_train_categorized , epochs= epochs , validation_data = (X_valid, y_valid_categorized), verbose = 0)\n",
        "    print(\"RBF keras builtin softmax finished\")\n",
        "    histories_rbf_1_softmax.append(history_rbf_softmax)\n",
        "    # TODO after import Data open codes\n",
        "    print(\"RBF custom class sigmoid started\")\n",
        "    history_2_rbf_sigmoid = model_2_rbf_sigmoid.fit(X_train , y_train , epochs= epochs , validation_data = (X_valid, y_valid), verbose = 0)\n",
        "    print(\"RBF custom class sigmoid finished\")\n",
        "    histories_rbf_2_sigmoid.append(history_2_rbf_sigmoid)\n",
        "\n",
        "    # histories.append({\n",
        "    #     \"mlp_sigomoid\" :history_mlp_sigmoid ,\n",
        "    #     \"mlp_softmax\" :history_mlp_softmax ,\n",
        "    #     \"rbf_1_sigomoid\" :history_rbf_sigmoid ,\n",
        "    #     \"rbf_1_softmax\" :history_rbf_softmax ,\n",
        "    #     \"rbf_2_sigomoid\" :history_2_rbf_sigmoid,\n",
        "    #     })\n",
        "    # val_predictions = (model_mlp_sigmoid.predict(X_valid) > 0.5).astype(int)\n",
        "    # accuracy = accuracy_score(y_valid, val_predictions)\n",
        "    # fold_accuracies.append(accuracy)\n",
        "    # histories_rbf_2_sigmoid.append(history_2_rbf_sigmoid)\n",
        "    # print(\"RBF custom class softmax started\")\n",
        "    # history_2_rbf_2 = model_2_rbf_2_channels.fit(X_train , y_train_categorized , epochs= 100 , validation_data = (X_valid, y_valid_categorized), verbose = 0)\n",
        "    # print(\"RBF custom class softmax finished\")\n",
        "# average_accuracy = np.mean(fold_accuracies)\n",
        "# print(average_accuracy)\n"
      ],
      "metadata": {
        "colab": {
          "base_uri": "https://localhost:8080/"
        },
        "id": "H_uDXqfd-u4Q",
        "outputId": "c0b0ff98-165f-40e2-db77-b60f2251e19b"
      },
      "execution_count": null,
      "outputs": [
        {
          "output_type": "stream",
          "name": "stdout",
          "text": [
            "##################### Fold :0 started #####################\n",
            "MLP sigmoid started\n",
            "MLP sigmoid finished\n",
            "MLP softmax started\n",
            "MLP softmax finished\n",
            "RBF keras builtin sigmoid started\n",
            "RBF keras builtin sigmoid finished\n",
            "RBF keras builtin softmax started\n",
            "RBF keras builtin softmax finished\n",
            "RBF custom class sigmoid started\n",
            "RBF custom class sigmoid finished\n",
            "##################### Fold :1 started #####################\n",
            "MLP sigmoid started\n",
            "MLP sigmoid finished\n",
            "MLP softmax started\n",
            "MLP softmax finished\n",
            "RBF keras builtin sigmoid started\n",
            "RBF keras builtin sigmoid finished\n",
            "RBF keras builtin softmax started\n",
            "RBF keras builtin softmax finished\n",
            "RBF custom class sigmoid started\n",
            "RBF custom class sigmoid finished\n",
            "##################### Fold :2 started #####################\n",
            "MLP sigmoid started\n",
            "MLP sigmoid finished\n",
            "MLP softmax started\n",
            "MLP softmax finished\n",
            "RBF keras builtin sigmoid started\n",
            "RBF keras builtin sigmoid finished\n",
            "RBF keras builtin softmax started\n",
            "RBF keras builtin softmax finished\n",
            "RBF custom class sigmoid started\n",
            "RBF custom class sigmoid finished\n",
            "##################### Fold :3 started #####################\n",
            "MLP sigmoid started\n",
            "MLP sigmoid finished\n",
            "MLP softmax started\n",
            "MLP softmax finished\n",
            "RBF keras builtin sigmoid started\n",
            "RBF keras builtin sigmoid finished\n",
            "RBF keras builtin softmax started\n",
            "RBF keras builtin softmax finished\n",
            "RBF custom class sigmoid started\n",
            "RBF custom class sigmoid finished\n",
            "##################### Fold :4 started #####################\n",
            "MLP sigmoid started\n",
            "MLP sigmoid finished\n",
            "MLP softmax started\n",
            "MLP softmax finished\n",
            "RBF keras builtin sigmoid started\n",
            "RBF keras builtin sigmoid finished\n",
            "RBF keras builtin softmax started\n",
            "RBF keras builtin softmax finished\n",
            "RBF custom class sigmoid started\n",
            "RBF custom class sigmoid finished\n"
          ]
        }
      ]
    },
    {
      "cell_type": "code",
      "source": [
        "print(\"############################### FOLDS Accuracy ###############################\")\n",
        "print(\"--------SIGMOID MLP\")\n",
        "for m in histories_mlp_sigmoid:\n",
        "    print(max(m.history[\"accuracy\"]))\n",
        "print(\"--------SOFTMAX MLP\")\n",
        "for m in histories_mlp_softmax:\n",
        "    print(max(m.history[\"accuracy\"]))\n",
        "print(\"--------SIGMOID RBF (Builtin Class)\")\n",
        "for m in histories_rbf_1_sigmoid:\n",
        "    print(max(m.history[\"accuracy\"]))\n",
        "print(\"--------SOFTMAX RBF (Builtin Class)\")\n",
        "for m in histories_rbf_1_softmax:\n",
        "    print(max(m.history[\"accuracy\"]))\n",
        "print(\"--------SIGMOID RBF (Custom Class)\")\n",
        "for m in histories_rbf_2_sigmoid:\n",
        "    print(max(m.history[\"accuracy\"]))\n"
      ],
      "metadata": {
        "colab": {
          "base_uri": "https://localhost:8080/"
        },
        "id": "7dRsJwQ64BjE",
        "outputId": "f21ac0a2-bafa-4859-8734-a463eb85bbc9"
      },
      "execution_count": null,
      "outputs": [
        {
          "output_type": "stream",
          "name": "stdout",
          "text": [
            "############################### FOLDS Accuracy ###############################\n",
            "--------SIGMOID MLP\n",
            "0.9159091114997864\n",
            "0.9954545497894287\n",
            "0.9977272748947144\n",
            "0.9977272748947144\n",
            "1.0\n",
            "--------SOFTMAX MLP\n",
            "0.9386363625526428\n",
            "1.0\n",
            "1.0\n",
            "1.0\n",
            "1.0\n",
            "--------SIGMOID RBF (Builtin Class)\n",
            "0.6727272868156433\n",
            "0.7113636136054993\n",
            "0.7272727489471436\n",
            "0.699999988079071\n",
            "0.7295454740524292\n",
            "--------SOFTMAX RBF (Builtin Class)\n",
            "0.6727272868156433\n",
            "0.7159090638160706\n",
            "0.7363636493682861\n",
            "0.7090908885002136\n",
            "0.7363636493682861\n",
            "--------SIGMOID RBF (Custom Class)\n",
            "0.6704545617103577\n",
            "0.7272727489471436\n",
            "0.7477272748947144\n",
            "0.7272727489471436\n",
            "0.75\n"
          ]
        }
      ]
    },
    {
      "cell_type": "code",
      "source": [
        "print(\"############################### Average Accuracy ###############################\")\n",
        "print(\"--------SIGMOID MLP\")\n",
        "print(sum([ max(m.history[\"accuracy\"]) for m in  histories_mlp_sigmoid]) / 5)\n",
        "print(\"--------SOFTMAX MLP\")\n",
        "print(sum([ max(m.history[\"accuracy\"]) for m in  histories_mlp_softmax]) / 5)\n",
        "print(\"--------SIGMOID RBF (Builtin Class)\")\n",
        "print(sum([ max(m.history[\"accuracy\"]) for m in  histories_rbf_1_sigmoid]) / 5)\n",
        "print(\"--------SOFTMAX RBF (Builtin Class)\")\n",
        "print(sum([ max(m.history[\"accuracy\"]) for m in  histories_rbf_1_softmax]) / 5)\n",
        "print(\"--------SIGMOID RBF (Custom Class)\")\n",
        "print(sum([ max(m.history[\"accuracy\"]) for m in  histories_rbf_2_sigmoid]) / 5)\n"
      ],
      "metadata": {
        "colab": {
          "base_uri": "https://localhost:8080/"
        },
        "id": "XMoN9uUyMNWI",
        "outputId": "01fbc305-f018-46dc-8da1-5721396fab83"
      },
      "execution_count": null,
      "outputs": [
        {
          "output_type": "stream",
          "name": "stdout",
          "text": [
            "############################### Average Accuracy ###############################\n",
            "--------SIGMOID MLP\n",
            "0.9813636422157288\n",
            "--------SOFTMAX MLP\n",
            "0.9877272725105286\n",
            "--------SIGMOID RBF (Builtin Class)\n",
            "0.7081818222999573\n",
            "--------SOFTMAX RBF (Builtin Class)\n",
            "0.7140909075737\n",
            "--------SIGMOID RBF (Custom Class)\n",
            "0.7245454668998719\n"
          ]
        }
      ]
    }
  ]
}